{
 "cells": [
  {
   "cell_type": "code",
   "execution_count": null,
   "metadata": {},
   "outputs": [],
   "source": [
    "# Amsterdam Availability Data\n",
    "\n",
    "# The Chistmas season will bias availability in two ways. The first way is that more AirBnBs \n",
    "# might be taken because of vacationers and the second way is that fewer AirBnBs might be on \n",
    "# offer because people would be reluctant to share their homes over the holidays. A sampling period \n",
    "# should be chosen that doesn't include a significant holiday or the question should be reframed to \n",
    "# focus on popular neighborhoods during significant holidays."
   ]
  },
  {
   "cell_type": "code",
   "execution_count": null,
   "metadata": {},
   "outputs": [],
   "source": [
    "# New York City and San Francisco\n",
    "\n",
    "# The 9/11 attack on New York City occurred a day before so the patterns of mental health \n",
    "# services use are most likely to really different in the two cities even if they were \n",
    "# similar on the day before 9/11. Maybe the question should be refamed to mental health use in \n",
    "# the aftermath of a nearby crisis as opposed to the aftermath of a distant crisis."
   ]
  },
  {
   "cell_type": "code",
   "execution_count": null,
   "metadata": {},
   "outputs": [],
   "source": [
    "# Armenian Pub Survey\n",
    "\n",
    "# The respondents are all university students. The question should be reframed in regards to reasons \n",
    "# why university students would visit pubs."
   ]
  }
 ],
 "metadata": {
  "kernelspec": {
   "display_name": "Python 3",
   "language": "python",
   "name": "python3"
  },
  "language_info": {
   "codemirror_mode": {
    "name": "ipython",
    "version": 3
   },
   "file_extension": ".py",
   "mimetype": "text/x-python",
   "name": "python",
   "nbconvert_exporter": "python",
   "pygments_lexer": "ipython3",
   "version": "3.7.3"
  }
 },
 "nbformat": 4,
 "nbformat_minor": 2
}
