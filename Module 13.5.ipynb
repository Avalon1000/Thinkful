{
 "cells": [
  {
   "cell_type": "code",
   "execution_count": 80,
   "metadata": {},
   "outputs": [],
   "source": [
    "from sqlalchemy import create_engine\n",
    "\n",
    "postgres_user = 'dsbc_student'\n",
    "postgres_pw = '7*.8G9QH21'\n",
    "postgres_host = '142.93.121.174'\n",
    "postgres_port = '5432'\n",
    "postgres_db = 'dvdrentals'\n",
    "\n",
    "engine = create_engine('postgresql://{}:{}@{}:{}/{}'.format(postgres_user, \n",
    "postgres_pw,postgres_host, postgres_port, postgres_db))"
   ]
  },
  {
   "cell_type": "code",
   "execution_count": 81,
   "metadata": {},
   "outputs": [],
   "source": [
    "# 1) Number of movies"
   ]
  },
  {
   "cell_type": "code",
   "execution_count": 82,
   "metadata": {},
   "outputs": [
    {
     "name": "stdout",
     "output_type": "stream",
     "text": [
      "There are 178 movies that are rated G in the table\n"
     ]
    }
   ],
   "source": [
    "sql = '''\n",
    "select \n",
    "  count(*)\n",
    "from \n",
    "  film\n",
    "where\n",
    "  rating = 'G' '''\n",
    "\n",
    "row_count = engine.execute(sql)\n",
    "engine.dispose()\n",
    "ans = row_count.first()\n",
    "print('There are {} movies that are rated G in the table'.format(ans['count']))"
   ]
  },
  {
   "cell_type": "code",
   "execution_count": 83,
   "metadata": {},
   "outputs": [
    {
     "name": "stdout",
     "output_type": "stream",
     "text": [
      "There are 194 movies that are rated PG in the table\n"
     ]
    }
   ],
   "source": [
    "sql = '''\n",
    "select\n",
    "  count(*)\n",
    "from\n",
    "  film\n",
    "where\n",
    "  rating = 'PG' '''\n",
    "\n",
    "row_count = engine.execute(sql)\n",
    "engine.dispose()\n",
    "ans = row_count.first()\n",
    "print('There are {} movies that are rated PG in the table'.format(ans['count']))"
   ]
  },
  {
   "cell_type": "code",
   "execution_count": 84,
   "metadata": {},
   "outputs": [
    {
     "name": "stdout",
     "output_type": "stream",
     "text": [
      "There are 223 movies that are rated PG-13 in the table\n"
     ]
    }
   ],
   "source": [
    "sql = '''\n",
    "select\n",
    "  count(*)\n",
    "from\n",
    "  film\n",
    "where\n",
    "  rating = 'PG-13' '''\n",
    "\n",
    "row_count = engine.execute(sql)\n",
    "engine.dispose()\n",
    "ans = row_count.first()\n",
    "print('There are {} movies that are rated PG-13 in the table'.format(ans['count']))"
   ]
  },
  {
   "cell_type": "code",
   "execution_count": 85,
   "metadata": {},
   "outputs": [
    {
     "name": "stdout",
     "output_type": "stream",
     "text": [
      "There are 195 movies that are rated R in the table\n"
     ]
    }
   ],
   "source": [
    "sql = '''\n",
    "select\n",
    "  count(*)\n",
    "from\n",
    "  film\n",
    "where\n",
    "  rating = 'R' '''\n",
    "\n",
    "row_count = engine.execute(sql)\n",
    "engine.dispose()\n",
    "ans = row_count.first()\n",
    "print('There are {} movies that are rated R in the table'.format(ans['count']))"
   ]
  },
  {
   "cell_type": "code",
   "execution_count": 86,
   "metadata": {},
   "outputs": [
    {
     "name": "stdout",
     "output_type": "stream",
     "text": [
      "There are 210 movies that are rated NC-17 in the table\n"
     ]
    }
   ],
   "source": [
    "sql = '''\n",
    "select\n",
    "  count(*)\n",
    "from\n",
    "  film\n",
    "where\n",
    "  rating = 'NC-17' '''\n",
    "\n",
    "row_count = engine.execute(sql)\n",
    "engine.dispose()\n",
    "ans = row_count.first()\n",
    "print('There are {} movies that are rated NC-17 in the table'.format(ans['count']))"
   ]
  },
  {
   "cell_type": "code",
   "execution_count": 87,
   "metadata": {},
   "outputs": [],
   "source": [
    "# 2) Average rental duration for each rating"
   ]
  },
  {
   "cell_type": "code",
   "execution_count": 88,
   "metadata": {},
   "outputs": [
    {
     "name": "stdout",
     "output_type": "stream",
     "text": [
      "The average rental duration is 4.837078651685394 for movies that are rated G\n"
     ]
    }
   ],
   "source": [
    "sql = '''\n",
    "select\n",
    "  rental_duration\n",
    "from\n",
    "  film\n",
    "where rating = 'G' '''\n",
    "\n",
    "rental_duration = engine.execute(sql)\n",
    "engine.dispose()\n",
    "\n",
    "rows = rental_duration.fetchall()\n",
    "\n",
    "rental_duration = [x['rental_duration'] for x in rows]\n",
    "\n",
    "def mean(numbers):\n",
    "  total_sum = 0;\n",
    "  for n in numbers:\n",
    "    total_sum += n\n",
    "  avg = total_sum / 178\n",
    "  return avg\n",
    "\n",
    "print('The average rental duration is {} for movies that are rated G'.format(mean(rental_duration)))\n",
    "\n"
   ]
  },
  {
   "cell_type": "code",
   "execution_count": 89,
   "metadata": {},
   "outputs": [
    {
     "name": "stdout",
     "output_type": "stream",
     "text": [
      "The average rental duration is 5.082474226804123 for movies that are rated PG\n"
     ]
    }
   ],
   "source": [
    "sql = '''\n",
    "select\n",
    "  rental_duration\n",
    "from\n",
    "  film\n",
    "where rating = 'PG' '''\n",
    "\n",
    "rental_duration = engine.execute(sql)\n",
    "engine.dispose()\n",
    "\n",
    "rows = rental_duration.fetchall()\n",
    "\n",
    "rental_duration = [x['rental_duration'] for x in rows]\n",
    "\n",
    "def mean(numbers):\n",
    "  total_sum = 0;\n",
    "  for n in numbers:\n",
    "    total_sum += n\n",
    "  avg = total_sum / 194\n",
    "  return avg\n",
    "\n",
    "print('The average rental duration is {} for movies that are rated PG'.format(mean(rental_duration)))"
   ]
  },
  {
   "cell_type": "code",
   "execution_count": 90,
   "metadata": {},
   "outputs": [
    {
     "name": "stdout",
     "output_type": "stream",
     "text": [
      "The average rental duration is 5.053811659192825 for movies that are rated PG-13\n"
     ]
    }
   ],
   "source": [
    "sql = '''\n",
    "select\n",
    "  rental_duration\n",
    "from\n",
    "  film\n",
    "where rating = 'PG-13' '''\n",
    "\n",
    "rental_duration = engine.execute(sql)\n",
    "engine.dispose()\n",
    "\n",
    "rows = rental_duration.fetchall()\n",
    "\n",
    "rental_duration = [x['rental_duration'] for x in rows]\n",
    "\n",
    "def mean(numbers):\n",
    "  total_sum = 0;\n",
    "  for n in numbers:\n",
    "    total_sum += n\n",
    "  avg = total_sum / 223\n",
    "  return avg\n",
    "\n",
    "print('The average rental duration is {} for movies that are rated PG-13'.format(mean(rental_duration)))\n",
    "    "
   ]
  },
  {
   "cell_type": "code",
   "execution_count": 91,
   "metadata": {},
   "outputs": [
    {
     "name": "stdout",
     "output_type": "stream",
     "text": [
      "The average rental duration is 4.774358974358974 for movies that are rated R\n"
     ]
    }
   ],
   "source": [
    "sql = '''\n",
    "select\n",
    "  rental_duration\n",
    "from\n",
    "  film\n",
    "where rating = 'R' '''\n",
    "\n",
    "rental_duration = engine.execute(sql)\n",
    "engine.dispose()\n",
    "\n",
    "rows = rental_duration.fetchall()\n",
    "\n",
    "rental_duration = [x['rental_duration'] for x in rows]\n",
    "\n",
    "def mean(numbers):\n",
    "  total_sum = 0;\n",
    "  for n in numbers:\n",
    "    total_sum += n\n",
    "  avg = total_sum / 195\n",
    "  return avg\n",
    "\n",
    "print('The average rental duration is {} for movies that are rated R'.format(mean(rental_duration)))\n",
    "        "
   ]
  },
  {
   "cell_type": "code",
   "execution_count": 92,
   "metadata": {},
   "outputs": [
    {
     "name": "stdout",
     "output_type": "stream",
     "text": [
      "The average rental duration is 5.142857142857143 for movies that are rated NC-17\n"
     ]
    }
   ],
   "source": [
    "sql = '''\n",
    "select\n",
    "  rental_duration\n",
    "from\n",
    "  film\n",
    "where rating = 'NC-17' '''\n",
    "\n",
    "rental_duration = engine.execute(sql)\n",
    "engine.dispose()\n",
    "\n",
    "rows = rental_duration.fetchall()\n",
    "\n",
    "rental_duration = [x['rental_duration'] for x in rows]\n",
    "\n",
    "def mean(numbers):\n",
    "  total_sum = 0;\n",
    "  for n in numbers:\n",
    "    total_sum += n\n",
    "  avg = total_sum / 210\n",
    "  return avg\n",
    "\n",
    "print('The average rental duration is {} for movies that are rated NC-17'.format(mean(rental_duration)))"
   ]
  },
  {
   "cell_type": "code",
   "execution_count": 93,
   "metadata": {},
   "outputs": [],
   "source": [
    "# 3) Mean movie length"
   ]
  },
  {
   "cell_type": "code",
   "execution_count": 94,
   "metadata": {},
   "outputs": [
    {
     "name": "stdout",
     "output_type": "stream",
     "text": [
      "The mean movie length is 115.272\n"
     ]
    }
   ],
   "source": [
    "sql = '''\n",
    "select\n",
    "  length\n",
    "from\n",
    "  film'''\n",
    "\n",
    "length = engine.execute(sql)\n",
    "engine.dispose()\n",
    "\n",
    "rows = length.fetchall()\n",
    "\n",
    "length = [x['length'] for x in rows]\n",
    "\n",
    "def mean(numbers):\n",
    "  total_sum = 0;\n",
    "  for n in numbers:\n",
    "    total_sum += n\n",
    "  avg = total_sum / 1000\n",
    "  return avg\n",
    "\n",
    "print('The mean movie length is {}'.format(mean(length)))"
   ]
  },
  {
   "cell_type": "code",
   "execution_count": 95,
   "metadata": {},
   "outputs": [],
   "source": [
    "# 4) Median movie length"
   ]
  },
  {
   "cell_type": "code",
   "execution_count": 96,
   "metadata": {},
   "outputs": [
    {
     "name": "stdout",
     "output_type": "stream",
     "text": [
      "The median movie length is 114.0\n"
     ]
    }
   ],
   "source": [
    "from sqlalchemy import create_engine\n",
    "\n",
    "sql = '''\n",
    "select\n",
    "  length\n",
    "from\n",
    "  film'''\n",
    "\n",
    "engine = create_engine('postgresql://{}:{}@{}:{}/{}'.format(postgres_user, \n",
    "postgres_pw, postgres_host, postgres_port, postgres_db))\n",
    "\n",
    "length = engine.execute(sql)\n",
    "engine.dispose()\n",
    "\n",
    "rows = length.fetchall()\n",
    "\n",
    "length = [x['length'] for x in rows]\n",
    "\n",
    "import math\n",
    "\n",
    "def median(numbers):\n",
    "    numbers.sort()\n",
    "    count = len(numbers)\n",
    "    isEven = count % 2 == 0\n",
    "    \n",
    "    if (isEven):\n",
    "        mid = math.floor( count / 2)\n",
    "        a = numbers[mid]\n",
    "        b = numbers[mid + 1]\n",
    "        ans = (a + b) / 2\n",
    "    else:\n",
    "        ans = numbers[math.floor( count / 2)]\n",
    "        \n",
    "    return ans\n",
    "\n",
    "print('The median movie length is {}'.format(median(length)))\n",
    "        \n",
    "        "
   ]
  },
  {
   "cell_type": "code",
   "execution_count": 97,
   "metadata": {},
   "outputs": [],
   "source": [
    "# 5) Standard deviation of the movie lengths"
   ]
  },
  {
   "cell_type": "code",
   "execution_count": 98,
   "metadata": {},
   "outputs": [
    {
     "name": "stdout",
     "output_type": "stream",
     "text": [
      "The standard deviation of the movie lengths is 40.42633181855988\n"
     ]
    }
   ],
   "source": [
    "sql = '''\n",
    "select\n",
    "  length\n",
    "from\n",
    "  film'''\n",
    "\n",
    "def standard_deviation(numbers):\n",
    "    X_bar = mean(numbers)\n",
    "    N = len(numbers)\n",
    "    total_sum = 0\n",
    "    for X in numbers:\n",
    "        diff = X - X_bar\n",
    "        squared = math.pow(diff, 2)\n",
    "        total_sum += squared\n",
    "    sigma = math.sqrt(total_sum / (N - 1))\n",
    "    return sigma\n",
    "    \n",
    "print('The standard deviation of the movie lengths is {}'.format(standard_deviation(length)))"
   ]
  }
 ],
 "metadata": {
  "kernelspec": {
   "display_name": "Python 3",
   "language": "python",
   "name": "python3"
  },
  "language_info": {
   "codemirror_mode": {
    "name": "ipython",
    "version": 3
   },
   "file_extension": ".py",
   "mimetype": "text/x-python",
   "name": "python",
   "nbconvert_exporter": "python",
   "pygments_lexer": "ipython3",
   "version": "3.7.3"
  }
 },
 "nbformat": 4,
 "nbformat_minor": 2
}
