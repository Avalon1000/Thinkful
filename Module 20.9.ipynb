{
 "cells": [
  {
   "cell_type": "markdown",
   "metadata": {},
   "source": [
    "# 1) Try to model the result of a coin toss. In your model, include any features that you think important in explaining the result. Discuss with your mentor about the pros and cons of adding too many features into your model."
   ]
  },
  {
   "cell_type": "code",
   "execution_count": null,
   "metadata": {},
   "outputs": [],
   "source": [
    "# The coin is assumed to be fair and the factors that affect the result of the coin toss should be included. These factors are \n",
    "# the force applied on the coin, the friction of the hand skin, the friction of the air, the angle between the coin and the \n",
    "# horizontal surface, the weight of the coin, the horizontal distance between the place the coin is tossed and the place where \n",
    "# it should fall, and there are a lot of other factors to take into account as well. Unfortunately, too many features means \n",
    "# that more experiment trials need to be collected. This is because the values for each of the factors need to be determine and \n",
    "# the more factors there are the more unknowns there are to determine. Therefore, it is for the best that only the most \n",
    "# important factors are included in the model."
   ]
  },
  {
   "cell_type": "markdown",
   "metadata": {},
   "source": [
    "# 2) If you ever used Netflix, you should already have realized that it provides some recommendations for you to watch. In data science, this is an example of the so-called recommendations systems. Read this nontechnical blog post of Netflix about how they model their recommendations systems. Then, derive the features they use in their recommendations engines and discuss what else can be incorporated into this model."
   ]
  },
  {
   "cell_type": "code",
   "execution_count": null,
   "metadata": {},
   "outputs": [],
   "source": [
    "# Netflix gives the following information to its recommendation systems according to the article:\n",
    "    \n",
    "# 1) The time of day that a person watches Netflix.\n",
    "# 2) A person's interactions with Netflix's service like the viewing history of the person and how that person rated other titles.\n",
    "# 3) The duration of time a person watches something on Netflix.\n",
    "# 4) Other members with similar preferences and tastes on Netflix.\n",
    "# 5) Information about the titles like their categories, release year, actors, and genre, etc.\n",
    "\n",
    "# It is interesting to note that they say that they do not give the demographic factors and this might be to remove gender bias \n",
    "# in their algorithms. Other features that might be included would be the following:\n",
    "\n",
    "# 1) Localization information: People who live in the same area might share some common interests.\n",
    "# 2) Actors and actresses who are in the movie: Some people might prefer to watch a movie that has his or her favorite \n",
    "# actors or actresses in it. "
   ]
  }
 ],
 "metadata": {
  "kernelspec": {
   "display_name": "Python 3",
   "language": "python",
   "name": "python3"
  },
  "language_info": {
   "codemirror_mode": {
    "name": "ipython",
    "version": 3
   },
   "file_extension": ".py",
   "mimetype": "text/x-python",
   "name": "python",
   "nbconvert_exporter": "python",
   "pygments_lexer": "ipython3",
   "version": "3.7.3"
  }
 },
 "nbformat": 4,
 "nbformat_minor": 2
}
