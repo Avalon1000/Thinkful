{
 "cells": [
  {
   "cell_type": "code",
   "execution_count": 1,
   "metadata": {},
   "outputs": [],
   "source": [
    "import numpy as np\n",
    "import pandas as pd\n",
    "import matplotlib.pyplot as plt\n",
    "from sqlalchemy import create_engine\n",
    "import statsmodels.api as sm\n",
    "from sklearn.model_selection import train_test_split\n",
    "from sklearn.metrics import mean_absolute_error\n",
    "from statsmodels.tools.eval_measures import mse, rmse\n",
    "\n",
    "import warnings\n",
    "warnings.filterwarnings('ignore')\n",
    "\n",
    "postgres_user = 'dsbc_student'\n",
    "postgres_pw = '7*.8G9QH21'\n",
    "postgres_host = '142.93.121.174'\n",
    "postgres_port = '5432'\n",
    "postgres_db = 'houseprices'"
   ]
  },
  {
   "cell_type": "code",
   "execution_count": 2,
   "metadata": {},
   "outputs": [],
   "source": [
    "engine = create_engine('postgresql://{}:{}@{}:{}/{}'.format(postgres_user, postgres_pw, postgres_host, postgres_port, \n",
    "        postgres_db))\n",
    "house_prices_df = pd.read_sql_query('select * from houseprices',con = engine)\n",
    "\n",
    "engine.dispose()"
   ]
  },
  {
   "cell_type": "code",
   "execution_count": 3,
   "metadata": {},
   "outputs": [],
   "source": [
    "house_prices_df = pd.concat([house_prices_df,pd.get_dummies(house_prices_df.mszoning, prefix=\"mszoning\", drop_first=True)], axis=1)\n",
    "house_prices_df = pd.concat([house_prices_df,pd.get_dummies(house_prices_df.street, prefix=\"street\", drop_first=True)], axis=1)\n",
    "dummy_column_names = list(pd.get_dummies(house_prices_df.mszoning, prefix=\"mszoning\", drop_first=True).columns)\n",
    "dummy_column_names = dummy_column_names + list(pd.get_dummies(house_prices_df.street, prefix=\"street\", drop_first=True).columns)"
   ]
  },
  {
   "cell_type": "code",
   "execution_count": 4,
   "metadata": {},
   "outputs": [
    {
     "data": {
      "text/html": [
       "<table class=\"simpletable\">\n",
       "<caption>OLS Regression Results</caption>\n",
       "<tr>\n",
       "  <th>Dep. Variable:</th>        <td>saleprice</td>    <th>  R-squared:         </th> <td>   0.768</td> \n",
       "</tr>\n",
       "<tr>\n",
       "  <th>Model:</th>                   <td>OLS</td>       <th>  Adj. R-squared:    </th> <td>   0.766</td> \n",
       "</tr>\n",
       "<tr>\n",
       "  <th>Method:</th>             <td>Least Squares</td>  <th>  F-statistic:       </th> <td>   383.1</td> \n",
       "</tr>\n",
       "<tr>\n",
       "  <th>Date:</th>             <td>Wed, 01 Jan 2020</td> <th>  Prob (F-statistic):</th>  <td>  0.00</td>  \n",
       "</tr>\n",
       "<tr>\n",
       "  <th>Time:</th>                 <td>19:33:09</td>     <th>  Log-Likelihood:    </th> <td> -13972.</td> \n",
       "</tr>\n",
       "<tr>\n",
       "  <th>No. Observations:</th>      <td>  1168</td>      <th>  AIC:               </th> <td>2.797e+04</td>\n",
       "</tr>\n",
       "<tr>\n",
       "  <th>Df Residuals:</th>          <td>  1157</td>      <th>  BIC:               </th> <td>2.802e+04</td>\n",
       "</tr>\n",
       "<tr>\n",
       "  <th>Df Model:</th>              <td>    10</td>      <th>                     </th>     <td> </td>    \n",
       "</tr>\n",
       "<tr>\n",
       "  <th>Covariance Type:</th>      <td>nonrobust</td>    <th>                     </th>     <td> </td>    \n",
       "</tr>\n",
       "</table>\n",
       "<table class=\"simpletable\">\n",
       "<tr>\n",
       "       <td></td>          <th>coef</th>     <th>std err</th>      <th>t</th>      <th>P>|t|</th>  <th>[0.025</th>    <th>0.975]</th>  \n",
       "</tr>\n",
       "<tr>\n",
       "  <th>const</th>       <td>-1.039e+05</td> <td> 2.06e+04</td> <td>   -5.037</td> <td> 0.000</td> <td>-1.44e+05</td> <td>-6.34e+04</td>\n",
       "</tr>\n",
       "<tr>\n",
       "  <th>overallqual</th> <td> 2.433e+04</td> <td> 1244.706</td> <td>   19.548</td> <td> 0.000</td> <td> 2.19e+04</td> <td> 2.68e+04</td>\n",
       "</tr>\n",
       "<tr>\n",
       "  <th>grlivarea</th>   <td>   43.3745</td> <td>    2.745</td> <td>   15.800</td> <td> 0.000</td> <td>   37.988</td> <td>   48.760</td>\n",
       "</tr>\n",
       "<tr>\n",
       "  <th>garagecars</th>  <td> 1.407e+04</td> <td> 3409.600</td> <td>    4.126</td> <td> 0.000</td> <td> 7379.047</td> <td> 2.08e+04</td>\n",
       "</tr>\n",
       "<tr>\n",
       "  <th>garagearea</th>  <td>   17.5210</td> <td>   11.560</td> <td>    1.516</td> <td> 0.130</td> <td>   -5.161</td> <td>   40.203</td>\n",
       "</tr>\n",
       "<tr>\n",
       "  <th>totalbsmtsf</th> <td>   23.4504</td> <td>    3.183</td> <td>    7.368</td> <td> 0.000</td> <td>   17.206</td> <td>   29.695</td>\n",
       "</tr>\n",
       "<tr>\n",
       "  <th>mszoning_FV</th> <td> 1.933e+04</td> <td>  1.5e+04</td> <td>    1.289</td> <td> 0.198</td> <td>-1.01e+04</td> <td> 4.88e+04</td>\n",
       "</tr>\n",
       "<tr>\n",
       "  <th>mszoning_RH</th> <td> 7305.5078</td> <td> 1.72e+04</td> <td>    0.426</td> <td> 0.670</td> <td>-2.63e+04</td> <td>  4.1e+04</td>\n",
       "</tr>\n",
       "<tr>\n",
       "  <th>mszoning_RL</th> <td> 2.429e+04</td> <td> 1.39e+04</td> <td>    1.747</td> <td> 0.081</td> <td>-2983.478</td> <td> 5.16e+04</td>\n",
       "</tr>\n",
       "<tr>\n",
       "  <th>mszoning_RM</th> <td> 2864.3070</td> <td> 1.41e+04</td> <td>    0.203</td> <td> 0.839</td> <td>-2.48e+04</td> <td> 3.05e+04</td>\n",
       "</tr>\n",
       "<tr>\n",
       "  <th>street_Pave</th> <td>-8177.6681</td> <td> 1.74e+04</td> <td>   -0.470</td> <td> 0.639</td> <td>-4.23e+04</td> <td>  2.6e+04</td>\n",
       "</tr>\n",
       "</table>\n",
       "<table class=\"simpletable\">\n",
       "<tr>\n",
       "  <th>Omnibus:</th>       <td>355.774</td> <th>  Durbin-Watson:     </th> <td>   1.863</td> \n",
       "</tr>\n",
       "<tr>\n",
       "  <th>Prob(Omnibus):</th> <td> 0.000</td>  <th>  Jarque-Bera (JB):  </th> <td>30190.746</td>\n",
       "</tr>\n",
       "<tr>\n",
       "  <th>Skew:</th>          <td>-0.383</td>  <th>  Prob(JB):          </th> <td>    0.00</td> \n",
       "</tr>\n",
       "<tr>\n",
       "  <th>Kurtosis:</th>      <td>27.895</td>  <th>  Cond. No.          </th> <td>5.62e+04</td> \n",
       "</tr>\n",
       "</table><br/><br/>Warnings:<br/>[1] Standard Errors assume that the covariance matrix of the errors is correctly specified.<br/>[2] The condition number is large, 5.62e+04. This might indicate that there are<br/>strong multicollinearity or other numerical problems."
      ],
      "text/plain": [
       "<class 'statsmodels.iolib.summary.Summary'>\n",
       "\"\"\"\n",
       "                            OLS Regression Results                            \n",
       "==============================================================================\n",
       "Dep. Variable:              saleprice   R-squared:                       0.768\n",
       "Model:                            OLS   Adj. R-squared:                  0.766\n",
       "Method:                 Least Squares   F-statistic:                     383.1\n",
       "Date:                Wed, 01 Jan 2020   Prob (F-statistic):               0.00\n",
       "Time:                        19:33:09   Log-Likelihood:                -13972.\n",
       "No. Observations:                1168   AIC:                         2.797e+04\n",
       "Df Residuals:                    1157   BIC:                         2.802e+04\n",
       "Df Model:                          10                                         \n",
       "Covariance Type:            nonrobust                                         \n",
       "===============================================================================\n",
       "                  coef    std err          t      P>|t|      [0.025      0.975]\n",
       "-------------------------------------------------------------------------------\n",
       "const       -1.039e+05   2.06e+04     -5.037      0.000   -1.44e+05   -6.34e+04\n",
       "overallqual  2.433e+04   1244.706     19.548      0.000    2.19e+04    2.68e+04\n",
       "grlivarea      43.3745      2.745     15.800      0.000      37.988      48.760\n",
       "garagecars   1.407e+04   3409.600      4.126      0.000    7379.047    2.08e+04\n",
       "garagearea     17.5210     11.560      1.516      0.130      -5.161      40.203\n",
       "totalbsmtsf    23.4504      3.183      7.368      0.000      17.206      29.695\n",
       "mszoning_FV  1.933e+04    1.5e+04      1.289      0.198   -1.01e+04    4.88e+04\n",
       "mszoning_RH  7305.5078   1.72e+04      0.426      0.670   -2.63e+04     4.1e+04\n",
       "mszoning_RL  2.429e+04   1.39e+04      1.747      0.081   -2983.478    5.16e+04\n",
       "mszoning_RM  2864.3070   1.41e+04      0.203      0.839   -2.48e+04    3.05e+04\n",
       "street_Pave -8177.6681   1.74e+04     -0.470      0.639   -4.23e+04     2.6e+04\n",
       "==============================================================================\n",
       "Omnibus:                      355.774   Durbin-Watson:                   1.863\n",
       "Prob(Omnibus):                  0.000   Jarque-Bera (JB):            30190.746\n",
       "Skew:                          -0.383   Prob(JB):                         0.00\n",
       "Kurtosis:                      27.895   Cond. No.                     5.62e+04\n",
       "==============================================================================\n",
       "\n",
       "Warnings:\n",
       "[1] Standard Errors assume that the covariance matrix of the errors is correctly specified.\n",
       "[2] The condition number is large, 5.62e+04. This might indicate that there are\n",
       "strong multicollinearity or other numerical problems.\n",
       "\"\"\""
      ]
     },
     "execution_count": 4,
     "metadata": {},
     "output_type": "execute_result"
    }
   ],
   "source": [
    "Y = house_prices_df['saleprice']\n",
    "\n",
    "X = house_prices_df[['overallqual', 'grlivarea', 'garagecars', 'garagearea', 'totalbsmtsf'] + dummy_column_names]\n",
    "\n",
    "X = sm.add_constant(X)\n",
    "\n",
    "X_train, X_test, y_train, y_test = train_test_split(X, Y, test_size = 0.2, random_state = 465)\n",
    "\n",
    "results = sm.OLS(y_train, X_train).fit()\n",
    "\n",
    "results.summary()"
   ]
  },
  {
   "cell_type": "markdown",
   "metadata": {},
   "source": [
    "The R-squared is 0.768 and the adjusted R-squared is 0.766. Therefore, approximately 23% of the variance in the target \n",
    "variable is not explained by the model as is said by the R-squared. The AIC value is 27970 and the BIC value is 28020."
   ]
  },
  {
   "cell_type": "code",
   "execution_count": 5,
   "metadata": {},
   "outputs": [
    {
     "data": {
      "image/png": "[encoded data removed]",
      "text/plain": [
       "<Figure size 432x288 with 1 Axes>"
      ]
     },
     "metadata": {
      "needs_background": "light"
     },
     "output_type": "display_data"
    },
    {
     "name": "stdout",
     "output_type": "stream",
     "text": [
      "Mean absolute error of the prediction is: 25546.803828588712\n",
      "Mean squared error of the prediction is: 1559083821.9730315\n",
      "Root mean squared error of the prediction is: 39485.23549344782\n",
      "Mean absolute percentage error of the prediction is: 15.551420347537723\n"
     ]
    }
   ],
   "source": [
    "y_preds = results.predict(X_test)\n",
    "\n",
    "plt.scatter(y_test, y_preds)\n",
    "plt.plot(y_test, y_test, color=\"red\")\n",
    "plt.xlabel(\"True Values\")\n",
    "plt.ylabel(\"Predicted Values\")\n",
    "plt.title(\"Charges: True And Predicted Values\")\n",
    "plt.show()\n",
    "\n",
    "print(\"Mean absolute error of the prediction is: {}\".format(mean_absolute_error(y_test, y_preds)))\n",
    "print(\"Mean squared error of the prediction is: {}\".format(mse(y_test, y_preds)))\n",
    "print(\"Root mean squared error of the prediction is: {}\".format(rmse(y_test, y_preds)))\n",
    "print(\"Mean absolute percentage error of the prediction is: {}\".format(np.mean(np.abs((y_test - y_preds) / y_test)) * 100))"
   ]
  },
  {
   "cell_type": "code",
   "execution_count": 6,
   "metadata": {},
   "outputs": [
    {
     "data": {
      "text/html": [
       "<table class=\"simpletable\">\n",
       "<caption>OLS Regression Results</caption>\n",
       "<tr>\n",
       "  <th>Dep. Variable:</th>        <td>saleprice</td>    <th>  R-squared:         </th> <td>   0.832</td>\n",
       "</tr>\n",
       "<tr>\n",
       "  <th>Model:</th>                   <td>OLS</td>       <th>  Adj. R-squared:    </th> <td>   0.831</td>\n",
       "</tr>\n",
       "<tr>\n",
       "  <th>Method:</th>             <td>Least Squares</td>  <th>  F-statistic:       </th> <td>   520.9</td>\n",
       "</tr>\n",
       "<tr>\n",
       "  <th>Date:</th>             <td>Wed, 01 Jan 2020</td> <th>  Prob (F-statistic):</th>  <td>  0.00</td> \n",
       "</tr>\n",
       "<tr>\n",
       "  <th>Time:</th>                 <td>19:33:10</td>     <th>  Log-Likelihood:    </th> <td>  463.99</td>\n",
       "</tr>\n",
       "<tr>\n",
       "  <th>No. Observations:</th>      <td>  1168</td>      <th>  AIC:               </th> <td>  -904.0</td>\n",
       "</tr>\n",
       "<tr>\n",
       "  <th>Df Residuals:</th>          <td>  1156</td>      <th>  BIC:               </th> <td>  -843.2</td>\n",
       "</tr>\n",
       "<tr>\n",
       "  <th>Df Model:</th>              <td>    11</td>      <th>                     </th>     <td> </td>   \n",
       "</tr>\n",
       "<tr>\n",
       "  <th>Covariance Type:</th>      <td>nonrobust</td>    <th>                     </th>     <td> </td>   \n",
       "</tr>\n",
       "</table>\n",
       "<table class=\"simpletable\">\n",
       "<tr>\n",
       "       <td></td>          <th>coef</th>     <th>std err</th>      <th>t</th>      <th>P>|t|</th>  <th>[0.025</th>    <th>0.975]</th>  \n",
       "</tr>\n",
       "<tr>\n",
       "  <th>const</th>       <td>    9.9162</td> <td>    0.102</td> <td>   97.518</td> <td> 0.000</td> <td>    9.717</td> <td>   10.116</td>\n",
       "</tr>\n",
       "<tr>\n",
       "  <th>overallqual</th> <td>    0.1893</td> <td>    0.009</td> <td>   20.123</td> <td> 0.000</td> <td>    0.171</td> <td>    0.208</td>\n",
       "</tr>\n",
       "<tr>\n",
       "  <th>grlivarea</th>   <td>  9.58e-05</td> <td> 1.89e-05</td> <td>    5.074</td> <td> 0.000</td> <td> 5.88e-05</td> <td>    0.000</td>\n",
       "</tr>\n",
       "<tr>\n",
       "  <th>garagecars</th>  <td>    0.0779</td> <td>    0.015</td> <td>    5.244</td> <td> 0.000</td> <td>    0.049</td> <td>    0.107</td>\n",
       "</tr>\n",
       "<tr>\n",
       "  <th>garagearea</th>  <td>    0.0001</td> <td> 5.04e-05</td> <td>    2.132</td> <td> 0.033</td> <td> 8.57e-06</td> <td>    0.000</td>\n",
       "</tr>\n",
       "<tr>\n",
       "  <th>totalsf</th>     <td>    0.0003</td> <td> 2.58e-05</td> <td>   11.139</td> <td> 0.000</td> <td>    0.000</td> <td>    0.000</td>\n",
       "</tr>\n",
       "<tr>\n",
       "  <th>int_over_sf</th> <td>-2.572e-05</td> <td> 3.02e-06</td> <td>   -8.526</td> <td> 0.000</td> <td>-3.16e-05</td> <td>-1.98e-05</td>\n",
       "</tr>\n",
       "<tr>\n",
       "  <th>mszoning_FV</th> <td>    0.3911</td> <td>    0.065</td> <td>    6.055</td> <td> 0.000</td> <td>    0.264</td> <td>    0.518</td>\n",
       "</tr>\n",
       "<tr>\n",
       "  <th>mszoning_RH</th> <td>    0.2650</td> <td>    0.074</td> <td>    3.593</td> <td> 0.000</td> <td>    0.120</td> <td>    0.410</td>\n",
       "</tr>\n",
       "<tr>\n",
       "  <th>mszoning_RL</th> <td>    0.3879</td> <td>    0.060</td> <td>    6.481</td> <td> 0.000</td> <td>    0.270</td> <td>    0.505</td>\n",
       "</tr>\n",
       "<tr>\n",
       "  <th>mszoning_RM</th> <td>    0.2155</td> <td>    0.061</td> <td>    3.556</td> <td> 0.000</td> <td>    0.097</td> <td>    0.334</td>\n",
       "</tr>\n",
       "<tr>\n",
       "  <th>street_Pave</th> <td>   -0.0556</td> <td>    0.075</td> <td>   -0.744</td> <td> 0.457</td> <td>   -0.202</td> <td>    0.091</td>\n",
       "</tr>\n",
       "</table>\n",
       "<table class=\"simpletable\">\n",
       "<tr>\n",
       "  <th>Omnibus:</th>       <td>350.711</td> <th>  Durbin-Watson:     </th> <td>   1.876</td>\n",
       "</tr>\n",
       "<tr>\n",
       "  <th>Prob(Omnibus):</th> <td> 0.000</td>  <th>  Jarque-Bera (JB):  </th> <td>2714.386</td>\n",
       "</tr>\n",
       "<tr>\n",
       "  <th>Skew:</th>          <td>-1.167</td>  <th>  Prob(JB):          </th> <td>    0.00</td>\n",
       "</tr>\n",
       "<tr>\n",
       "  <th>Kurtosis:</th>      <td>10.094</td>  <th>  Cond. No.          </th> <td>5.33e+05</td>\n",
       "</tr>\n",
       "</table><br/><br/>Warnings:<br/>[1] Standard Errors assume that the covariance matrix of the errors is correctly specified.<br/>[2] The condition number is large, 5.33e+05. This might indicate that there are<br/>strong multicollinearity or other numerical problems."
      ],
      "text/plain": [
       "<class 'statsmodels.iolib.summary.Summary'>\n",
       "\"\"\"\n",
       "                            OLS Regression Results                            \n",
       "==============================================================================\n",
       "Dep. Variable:              saleprice   R-squared:                       0.832\n",
       "Model:                            OLS   Adj. R-squared:                  0.831\n",
       "Method:                 Least Squares   F-statistic:                     520.9\n",
       "Date:                Wed, 01 Jan 2020   Prob (F-statistic):               0.00\n",
       "Time:                        19:33:10   Log-Likelihood:                 463.99\n",
       "No. Observations:                1168   AIC:                            -904.0\n",
       "Df Residuals:                    1156   BIC:                            -843.2\n",
       "Df Model:                          11                                         \n",
       "Covariance Type:            nonrobust                                         \n",
       "===============================================================================\n",
       "                  coef    std err          t      P>|t|      [0.025      0.975]\n",
       "-------------------------------------------------------------------------------\n",
       "const           9.9162      0.102     97.518      0.000       9.717      10.116\n",
       "overallqual     0.1893      0.009     20.123      0.000       0.171       0.208\n",
       "grlivarea     9.58e-05   1.89e-05      5.074      0.000    5.88e-05       0.000\n",
       "garagecars      0.0779      0.015      5.244      0.000       0.049       0.107\n",
       "garagearea      0.0001   5.04e-05      2.132      0.033    8.57e-06       0.000\n",
       "totalsf         0.0003   2.58e-05     11.139      0.000       0.000       0.000\n",
       "int_over_sf -2.572e-05   3.02e-06     -8.526      0.000   -3.16e-05   -1.98e-05\n",
       "mszoning_FV     0.3911      0.065      6.055      0.000       0.264       0.518\n",
       "mszoning_RH     0.2650      0.074      3.593      0.000       0.120       0.410\n",
       "mszoning_RL     0.3879      0.060      6.481      0.000       0.270       0.505\n",
       "mszoning_RM     0.2155      0.061      3.556      0.000       0.097       0.334\n",
       "street_Pave    -0.0556      0.075     -0.744      0.457      -0.202       0.091\n",
       "==============================================================================\n",
       "Omnibus:                      350.711   Durbin-Watson:                   1.876\n",
       "Prob(Omnibus):                  0.000   Jarque-Bera (JB):             2714.386\n",
       "Skew:                          -1.167   Prob(JB):                         0.00\n",
       "Kurtosis:                      10.094   Cond. No.                     5.33e+05\n",
       "==============================================================================\n",
       "\n",
       "Warnings:\n",
       "[1] Standard Errors assume that the covariance matrix of the errors is correctly specified.\n",
       "[2] The condition number is large, 5.33e+05. This might indicate that there are\n",
       "strong multicollinearity or other numerical problems.\n",
       "\"\"\""
      ]
     },
     "execution_count": 6,
     "metadata": {},
     "output_type": "execute_result"
    }
   ],
   "source": [
    "house_prices_df['totalsf'] = house_prices_df['totalbsmtsf'] + house_prices_df['firstflrsf'] + house_prices_df['secondflrsf']\n",
    "\n",
    "house_prices_df['int_over_sf'] = house_prices_df['totalsf'] * house_prices_df['overallqual']\n",
    "\n",
    "Y = np.log1p(house_prices_df['saleprice'])\n",
    "\n",
    "X = house_prices_df[['overallqual', 'grlivarea', 'garagecars', 'garagearea', 'totalsf', 'int_over_sf'] + dummy_column_names]\n",
    "\n",
    "X = sm.add_constant(X)\n",
    "\n",
    "X_train, X_test, y_train, y_test = train_test_split(X, Y, test_size = 0.2, random_state = 465)\n",
    "\n",
    "results = sm.OLS(y_train, X_train).fit()\n",
    "\n",
    "results.summary()"
   ]
  },
  {
   "cell_type": "markdown",
   "metadata": {},
   "source": [
    "The R-squared value and the adjusted R-squared value of the second model are higher, and the AIC and BIC criteria are lower \n",
    "than those of the first model. These show that the second model has a better goodness of fit than the first model in any \n",
    "case."
   ]
  },
  {
   "cell_type": "code",
   "execution_count": 7,
   "metadata": {},
   "outputs": [
    {
     "data": {
      "image/png": "[encoded data removed]",
      "text/plain": [
       "<Figure size 432x288 with 1 Axes>"
      ]
     },
     "metadata": {
      "needs_background": "light"
     },
     "output_type": "display_data"
    },
    {
     "name": "stdout",
     "output_type": "stream",
     "text": [
      "Mean absolute error of the prediction is: 0.12570372872853813\n",
      "Mean squared error of the prediction is: 0.029192121871305193\n",
      "Root mean squared error of the prediction is: 0.17085702172080958\n",
      "Mean absolute percentage error of the prediction is: 1.0503577667818464\n"
     ]
    }
   ],
   "source": [
    "y_preds = results.predict(X_test)\n",
    "\n",
    "plt.scatter(y_test, y_preds)\n",
    "plt.plot(y_test, y_test, color=\"red\")\n",
    "plt.xlabel(\"True Values\")\n",
    "plt.ylabel(\"Predicted Values\")\n",
    "plt.title(\"Charges: True And Predicted Values\")\n",
    "plt.show()\n",
    "\n",
    "print(\"Mean absolute error of the prediction is: {}\".format(mean_absolute_error(y_test, y_preds)))\n",
    "print(\"Mean squared error of the prediction is: {}\".format(mse(y_test, y_preds)))\n",
    "print(\"Root mean squared error of the prediction is: {}\".format(rmse(y_test, y_preds)))\n",
    "print(\"Mean absolute percentage error of the prediction is: {}\".format(np.mean(np.abs((y_test - y_preds) / y_test)) * 100))"
   ]
  },
  {
   "cell_type": "markdown",
   "metadata": {},
   "source": [
    "The second model attains a better prediction performance in the test set for all the metrics."
   ]
  }
 ],
 "metadata": {
  "kernelspec": {
   "display_name": "Python 3",
   "language": "python",
   "name": "python3"
  },
  "language_info": {
   "codemirror_mode": {
    "name": "ipython",
    "version": 3
   },
   "file_extension": ".py",
   "mimetype": "text/x-python",
   "name": "python",
   "nbconvert_exporter": "python",
   "pygments_lexer": "ipython3",
   "version": "3.7.3"
  }
 },
 "nbformat": 4,
 "nbformat_minor": 2
}
