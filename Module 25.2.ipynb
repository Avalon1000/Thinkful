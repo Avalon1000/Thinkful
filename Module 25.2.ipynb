{
 "cells": [
  {
   "cell_type": "code",
   "execution_count": 27,
   "metadata": {},
   "outputs": [
    {
     "name": "stdout",
     "output_type": "stream",
     "text": [
      "Requirement already satisfied: pydotplus in c:\\anaconda\\lib\\site-packages (2.0.2)\n",
      "Requirement already satisfied: pyparsing>=2.0.1 in c:\\anaconda\\lib\\site-packages (from pydotplus) (2.4.0)\n",
      "Note: you may need to restart the kernel to use updated packages.\n"
     ]
    }
   ],
   "source": [
    "pip install pydotplus"
   ]
  },
  {
   "cell_type": "code",
   "execution_count": 28,
   "metadata": {},
   "outputs": [
    {
     "name": "stdout",
     "output_type": "stream",
     "text": [
      "Collecting package metadata (current_repodata.json): ...working... done\n",
      "Solving environment: ...working... done\n",
      "\n",
      "## Package Plan ##\n",
      "\n",
      "  environment location: C:\\ANACONDA\n",
      "\n",
      "  added / updated specs:\n",
      "    - graphviz\n",
      "\n",
      "\n",
      "The following packages will be downloaded:\n",
      "\n",
      "    package                    |            build\n",
      "    ---------------------------|-----------------\n",
      "    ca-certificates-2019.11.27 |                0         163 KB  anaconda\n",
      "    certifi-2019.11.28         |           py37_0         157 KB  anaconda\n",
      "    conda-4.8.1                |           py37_0         3.0 MB  anaconda\n",
      "    ------------------------------------------------------------\n",
      "                                           Total:         3.4 MB\n",
      "\n",
      "The following packages will be SUPERSEDED by a higher-priority channel:\n",
      "\n",
      "  ca-certificates                                 pkgs/main --> anaconda\n",
      "  certifi                                         pkgs/main --> anaconda\n",
      "  conda                                           pkgs/main --> anaconda\n",
      "\n",
      "\n",
      "\n",
      "Downloading and Extracting Packages\n",
      "\n",
      "ca-certificates-2019 | 163 KB    |            |   0% \n",
      "ca-certificates-2019 | 163 KB    | 9          |  10% \n",
      "ca-certificates-2019 | 163 KB    | ######8    |  69% \n",
      "ca-certificates-2019 | 163 KB    | ########## | 100% \n",
      "\n",
      "conda-4.8.1          | 3.0 MB    |            |   0% \n",
      "conda-4.8.1          | 3.0 MB    |            |   1% \n",
      "conda-4.8.1          | 3.0 MB    | #2         |  13% \n",
      "conda-4.8.1          | 3.0 MB    | ##2        |  23% \n",
      "conda-4.8.1          | 3.0 MB    | ###1       |  31% \n",
      "conda-4.8.1          | 3.0 MB    | ####5      |  45% \n",
      "conda-4.8.1          | 3.0 MB    | #####2     |  53% \n",
      "conda-4.8.1          | 3.0 MB    | ######6    |  66% \n",
      "conda-4.8.1          | 3.0 MB    | #######8   |  78% \n",
      "conda-4.8.1          | 3.0 MB    | ########9  |  89% \n",
      "conda-4.8.1          | 3.0 MB    | ########## | 100% \n",
      "\n",
      "certifi-2019.11.28   | 157 KB    |            |   0% \n",
      "certifi-2019.11.28   | 157 KB    | #          |  10% \n",
      "certifi-2019.11.28   | 157 KB    | #####1     |  51% \n",
      "certifi-2019.11.28   | 157 KB    | ########## | 100% \n",
      "Preparing transaction: ...working... done\n",
      "Verifying transaction: ...working... done\n",
      "Executing transaction: ...working... done\n",
      "\n",
      "Note: you may need to restart the kernel to use updated packages.\n"
     ]
    }
   ],
   "source": [
    "conda install -c anaconda graphviz"
   ]
  },
  {
   "cell_type": "code",
   "execution_count": 29,
   "metadata": {},
   "outputs": [
    {
     "name": "stdout",
     "output_type": "stream",
     "text": [
      "Collecting package metadata (current_repodata.json): ...working... done\n",
      "Solving environment: ...working... done\n",
      "\n",
      "## Package Plan ##\n",
      "\n",
      "  environment location: C:\\ANACONDA\n",
      "\n",
      "  added / updated specs:\n",
      "    - python-graphviz\n",
      "\n",
      "\n",
      "The following packages will be downloaded:\n",
      "\n",
      "    package                    |            build\n",
      "    ---------------------------|-----------------\n",
      "    ca-certificates-2019.11.27 |                0         124 KB\n",
      "    certifi-2019.11.28         |           py37_0         154 KB\n",
      "    conda-4.8.1                |           py37_0         2.8 MB\n",
      "    ------------------------------------------------------------\n",
      "                                           Total:         3.1 MB\n",
      "\n",
      "The following packages will be SUPERSEDED by a higher-priority channel:\n",
      "\n",
      "  ca-certificates                                  anaconda --> pkgs/main\n",
      "  certifi                                          anaconda --> pkgs/main\n",
      "  conda                                            anaconda --> pkgs/main\n",
      "\n",
      "\n",
      "\n",
      "Downloading and Extracting Packages\n",
      "\n",
      "certifi-2019.11.28   | 154 KB    |            |   0% \n",
      "certifi-2019.11.28   | 154 KB    | #          |  10% \n",
      "certifi-2019.11.28   | 154 KB    | ########3  |  83% \n",
      "certifi-2019.11.28   | 154 KB    | ########## | 100% \n",
      "\n",
      "conda-4.8.1          | 2.8 MB    |            |   0% \n",
      "conda-4.8.1          | 2.8 MB    |            |   1% \n",
      "conda-4.8.1          | 2.8 MB    | 9          |  10% \n",
      "conda-4.8.1          | 2.8 MB    | #8         |  18% \n",
      "conda-4.8.1          | 2.8 MB    | ##7        |  28% \n",
      "conda-4.8.1          | 2.8 MB    | ###7       |  37% \n",
      "conda-4.8.1          | 2.8 MB    | #####      |  50% \n",
      "conda-4.8.1          | 2.8 MB    | ######3    |  64% \n",
      "conda-4.8.1          | 2.8 MB    | #######7   |  77% \n",
      "conda-4.8.1          | 2.8 MB    | #########1 |  91% \n",
      "conda-4.8.1          | 2.8 MB    | ########## | 100% \n",
      "\n",
      "ca-certificates-2019 | 124 KB    |            |   0% \n",
      "ca-certificates-2019 | 124 KB    | #2         |  13% \n",
      "ca-certificates-2019 | 124 KB    | ########## | 100% \n",
      "Preparing transaction: ...working... done\n",
      "Verifying transaction: ...working... done\n",
      "Executing transaction: ...working... done\n",
      "\n",
      "Note: you may need to restart the kernel to use updated packages.\n"
     ]
    }
   ],
   "source": [
    "conda install python-graphviz"
   ]
  },
  {
   "cell_type": "code",
   "execution_count": 30,
   "metadata": {},
   "outputs": [],
   "source": [
    "import pydotplus\n",
    "import graphviz"
   ]
  },
  {
   "cell_type": "code",
   "execution_count": 31,
   "metadata": {},
   "outputs": [],
   "source": [
    "import pandas as pd\n",
    "import numpy as np\n",
    "import scipy\n",
    "import matplotlib.pyplot as plt\n",
    "%matplotlib inline"
   ]
  },
  {
   "cell_type": "code",
   "execution_count": 32,
   "metadata": {},
   "outputs": [],
   "source": [
    "customers = pd.DataFrame()\n",
    "customers['purchases_amount'] = [105, 65, 89, 99, 149, 102, 34, 120, 129, 39,\n",
    "                                 20, 30, 109, 40, 55, 100, 23, 20, 70, 10]\n",
    "customers['purchases_items'] = [1, 4, 5, 4, 7, 1, 2, 10, 6, 5,\n",
    "                                1, 3, 2, 1, 5, 10, 3, 3, 1, 1]\n",
    "customers['promo'] = [1, 1, 0, 1, 0, 0, 0, 0, 0, 1,\n",
    "                      1, 1, 1, 0, 1, 1, 1, 0, 1, 1]\n",
    "customers['email_list'] = [1, 0, 1, 1, 1, 0, 1, 1, 1, 1,\n",
    "                           0, 1, 1, 0, 1, 0, 1, 1, 0, 0]\n",
    "customers['checkouts'] = [1, 5, 3, 3, 1, 2, 4, 4, 1, 1,\n",
    "                          1, 1, 2, 4, 1, 1, 2, 1, 1, 1]\n",
    "\n",
    "repeat_customer = pd.DataFrame()\n",
    "repeat_customer['repeat'] = [1, 1, 1, 1, 1, 1, 1, 1, 1, 1,\n",
    "                             0, 0, 0, 0, 0, 0, 0, 0, 0, 0]"
   ]
  },
  {
   "cell_type": "code",
   "execution_count": 33,
   "metadata": {},
   "outputs": [
    {
     "ename": "InvocationException",
     "evalue": "GraphViz's executables not found",
     "output_type": "error",
     "traceback": [
      "\u001b[1;31m---------------------------------------------------------------------------\u001b[0m",
      "\u001b[1;31mInvocationException\u001b[0m                       Traceback (most recent call last)",
      "\u001b[1;32m<ipython-input-33-56238f673511>\u001b[0m in \u001b[0;36m<module>\u001b[1;34m\u001b[0m\n\u001b[0;32m     24\u001b[0m )\n\u001b[0;32m     25\u001b[0m \u001b[0mgraph\u001b[0m \u001b[1;33m=\u001b[0m \u001b[0mpydotplus\u001b[0m\u001b[1;33m.\u001b[0m\u001b[0mgraph_from_dot_data\u001b[0m\u001b[1;33m(\u001b[0m\u001b[0mdot_data\u001b[0m\u001b[1;33m)\u001b[0m\u001b[1;33m\u001b[0m\u001b[1;33m\u001b[0m\u001b[0m\n\u001b[1;32m---> 26\u001b[1;33m \u001b[0mImage\u001b[0m\u001b[1;33m(\u001b[0m\u001b[0mgraph\u001b[0m\u001b[1;33m.\u001b[0m\u001b[0mcreate_png\u001b[0m\u001b[1;33m(\u001b[0m\u001b[1;33m)\u001b[0m\u001b[1;33m)\u001b[0m\u001b[1;33m\u001b[0m\u001b[1;33m\u001b[0m\u001b[0m\n\u001b[0m",
      "\u001b[1;32mC:\\ANACONDA\\lib\\site-packages\\pydotplus\\graphviz.py\u001b[0m in \u001b[0;36m<lambda>\u001b[1;34m(f, prog)\u001b[0m\n\u001b[0;32m   1795\u001b[0m             self.__setattr__(\n\u001b[0;32m   1796\u001b[0m                 \u001b[1;34m'create_'\u001b[0m \u001b[1;33m+\u001b[0m \u001b[0mfrmt\u001b[0m\u001b[1;33m,\u001b[0m\u001b[1;33m\u001b[0m\u001b[1;33m\u001b[0m\u001b[0m\n\u001b[1;32m-> 1797\u001b[1;33m                 \u001b[1;32mlambda\u001b[0m \u001b[0mf\u001b[0m\u001b[1;33m=\u001b[0m\u001b[0mfrmt\u001b[0m\u001b[1;33m,\u001b[0m \u001b[0mprog\u001b[0m\u001b[1;33m=\u001b[0m\u001b[0mself\u001b[0m\u001b[1;33m.\u001b[0m\u001b[0mprog\u001b[0m\u001b[1;33m:\u001b[0m \u001b[0mself\u001b[0m\u001b[1;33m.\u001b[0m\u001b[0mcreate\u001b[0m\u001b[1;33m(\u001b[0m\u001b[0mformat\u001b[0m\u001b[1;33m=\u001b[0m\u001b[0mf\u001b[0m\u001b[1;33m,\u001b[0m \u001b[0mprog\u001b[0m\u001b[1;33m=\u001b[0m\u001b[0mprog\u001b[0m\u001b[1;33m)\u001b[0m\u001b[1;33m\u001b[0m\u001b[1;33m\u001b[0m\u001b[0m\n\u001b[0m\u001b[0;32m   1798\u001b[0m             )\n\u001b[0;32m   1799\u001b[0m             \u001b[0mf\u001b[0m \u001b[1;33m=\u001b[0m \u001b[0mself\u001b[0m\u001b[1;33m.\u001b[0m\u001b[0m__dict__\u001b[0m\u001b[1;33m[\u001b[0m\u001b[1;34m'create_'\u001b[0m \u001b[1;33m+\u001b[0m \u001b[0mfrmt\u001b[0m\u001b[1;33m]\u001b[0m\u001b[1;33m\u001b[0m\u001b[1;33m\u001b[0m\u001b[0m\n",
      "\u001b[1;32mC:\\ANACONDA\\lib\\site-packages\\pydotplus\\graphviz.py\u001b[0m in \u001b[0;36mcreate\u001b[1;34m(self, prog, format)\u001b[0m\n\u001b[0;32m   1958\u001b[0m             \u001b[1;32mif\u001b[0m \u001b[0mself\u001b[0m\u001b[1;33m.\u001b[0m\u001b[0mprogs\u001b[0m \u001b[1;32mis\u001b[0m \u001b[1;32mNone\u001b[0m\u001b[1;33m:\u001b[0m\u001b[1;33m\u001b[0m\u001b[1;33m\u001b[0m\u001b[0m\n\u001b[0;32m   1959\u001b[0m                 raise InvocationException(\n\u001b[1;32m-> 1960\u001b[1;33m                     'GraphViz\\'s executables not found')\n\u001b[0m\u001b[0;32m   1961\u001b[0m \u001b[1;33m\u001b[0m\u001b[0m\n\u001b[0;32m   1962\u001b[0m         \u001b[1;32mif\u001b[0m \u001b[0mprog\u001b[0m \u001b[1;32mnot\u001b[0m \u001b[1;32min\u001b[0m \u001b[0mself\u001b[0m\u001b[1;33m.\u001b[0m\u001b[0mprogs\u001b[0m\u001b[1;33m:\u001b[0m\u001b[1;33m\u001b[0m\u001b[1;33m\u001b[0m\u001b[0m\n",
      "\u001b[1;31mInvocationException\u001b[0m: GraphViz's executables not found"
     ]
    }
   ],
   "source": [
    "from sklearn import tree\n",
    "\n",
    "from IPython.display import Image\n",
    "\n",
    "decision_tree = tree.DecisionTreeClassifier(\n",
    "    criterion='entropy',\n",
    "    max_features=1,\n",
    "    max_depth=4,\n",
    "    random_state = 1337\n",
    ")\n",
    "decision_tree.fit(customers, repeat_customer)\n",
    "\n",
    "dot_data = tree.export_graphviz(\n",
    "    decision_tree, out_file=None,\n",
    "    feature_names=customers.columns,\n",
    "    class_names=['Not Returning', 'Returning'],\n",
    "    filled=True\n",
    ")\n",
    "graph = pydotplus.graph_from_dot_data(dot_data) \n",
    "Image(graph.create_png())  "
   ]
  }
 ],
 "metadata": {
  "kernelspec": {
   "display_name": "Python 3",
   "language": "python",
   "name": "python3"
  },
  "language_info": {
   "codemirror_mode": {
    "name": "ipython",
    "version": 3
   },
   "file_extension": ".py",
   "mimetype": "text/x-python",
   "name": "python",
   "nbconvert_exporter": "python",
   "pygments_lexer": "ipython3",
   "version": "3.7.3"
  }
 },
 "nbformat": 4,
 "nbformat_minor": 2
}
