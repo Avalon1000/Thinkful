{
 "cells": [
  {
   "cell_type": "code",
   "execution_count": 2,
   "metadata": {},
   "outputs": [],
   "source": [
    "import pandas as pd\n",
    "import numpy as np\n",
    "import matplotlib.pyplot as plt\n",
    "import scipy.stats as stats\n",
    "from scipy.stats import wilcoxon\n",
    "from scipy.stats import mannwhitneyu\n",
    "%matplotlib inline"
   ]
  },
  {
   "cell_type": "code",
   "execution_count": null,
   "metadata": {},
   "outputs": [],
   "source": [
    "# 2 out of 6 questions completed (1, 3, 4, 5, and 6 are good)"
   ]
  },
  {
   "cell_type": "code",
   "execution_count": 3,
   "metadata": {},
   "outputs": [
    {
     "data": {
      "text/html": [
       "<div>\n",
       "<style scoped>\n",
       "    .dataframe tbody tr th:only-of-type {\n",
       "        vertical-align: middle;\n",
       "    }\n",
       "\n",
       "    .dataframe tbody tr th {\n",
       "        vertical-align: top;\n",
       "    }\n",
       "\n",
       "    .dataframe thead th {\n",
       "        text-align: right;\n",
       "    }\n",
       "</style>\n",
       "<table border=\"1\" class=\"dataframe\">\n",
       "  <thead>\n",
       "    <tr style=\"text-align: right;\">\n",
       "      <th></th>\n",
       "      <th>cntry</th>\n",
       "      <th>idno</th>\n",
       "      <th>year</th>\n",
       "      <th>tvtot</th>\n",
       "      <th>ppltrst</th>\n",
       "      <th>pplfair</th>\n",
       "      <th>pplhlp</th>\n",
       "      <th>happy</th>\n",
       "      <th>sclmeet</th>\n",
       "      <th>sclact</th>\n",
       "      <th>gndr</th>\n",
       "      <th>agea</th>\n",
       "      <th>partner</th>\n",
       "    </tr>\n",
       "  </thead>\n",
       "  <tbody>\n",
       "    <tr>\n",
       "      <th>0</th>\n",
       "      <td>CH</td>\n",
       "      <td>5.0</td>\n",
       "      <td>6</td>\n",
       "      <td>3.0</td>\n",
       "      <td>3.0</td>\n",
       "      <td>10.0</td>\n",
       "      <td>5.0</td>\n",
       "      <td>8.0</td>\n",
       "      <td>5.0</td>\n",
       "      <td>4.0</td>\n",
       "      <td>2.0</td>\n",
       "      <td>60.0</td>\n",
       "      <td>1.0</td>\n",
       "    </tr>\n",
       "    <tr>\n",
       "      <th>1</th>\n",
       "      <td>CH</td>\n",
       "      <td>25.0</td>\n",
       "      <td>6</td>\n",
       "      <td>6.0</td>\n",
       "      <td>5.0</td>\n",
       "      <td>7.0</td>\n",
       "      <td>5.0</td>\n",
       "      <td>9.0</td>\n",
       "      <td>3.0</td>\n",
       "      <td>2.0</td>\n",
       "      <td>2.0</td>\n",
       "      <td>59.0</td>\n",
       "      <td>1.0</td>\n",
       "    </tr>\n",
       "    <tr>\n",
       "      <th>2</th>\n",
       "      <td>CH</td>\n",
       "      <td>26.0</td>\n",
       "      <td>6</td>\n",
       "      <td>1.0</td>\n",
       "      <td>8.0</td>\n",
       "      <td>8.0</td>\n",
       "      <td>8.0</td>\n",
       "      <td>7.0</td>\n",
       "      <td>6.0</td>\n",
       "      <td>3.0</td>\n",
       "      <td>1.0</td>\n",
       "      <td>24.0</td>\n",
       "      <td>2.0</td>\n",
       "    </tr>\n",
       "    <tr>\n",
       "      <th>3</th>\n",
       "      <td>CH</td>\n",
       "      <td>28.0</td>\n",
       "      <td>6</td>\n",
       "      <td>4.0</td>\n",
       "      <td>6.0</td>\n",
       "      <td>6.0</td>\n",
       "      <td>7.0</td>\n",
       "      <td>10.0</td>\n",
       "      <td>6.0</td>\n",
       "      <td>2.0</td>\n",
       "      <td>2.0</td>\n",
       "      <td>64.0</td>\n",
       "      <td>1.0</td>\n",
       "    </tr>\n",
       "    <tr>\n",
       "      <th>4</th>\n",
       "      <td>CH</td>\n",
       "      <td>29.0</td>\n",
       "      <td>6</td>\n",
       "      <td>5.0</td>\n",
       "      <td>6.0</td>\n",
       "      <td>7.0</td>\n",
       "      <td>5.0</td>\n",
       "      <td>8.0</td>\n",
       "      <td>7.0</td>\n",
       "      <td>2.0</td>\n",
       "      <td>2.0</td>\n",
       "      <td>55.0</td>\n",
       "      <td>1.0</td>\n",
       "    </tr>\n",
       "    <tr>\n",
       "      <th>6</th>\n",
       "      <td>CH</td>\n",
       "      <td>40.0</td>\n",
       "      <td>6</td>\n",
       "      <td>3.0</td>\n",
       "      <td>0.0</td>\n",
       "      <td>5.0</td>\n",
       "      <td>2.0</td>\n",
       "      <td>0.0</td>\n",
       "      <td>2.0</td>\n",
       "      <td>2.0</td>\n",
       "      <td>1.0</td>\n",
       "      <td>76.0</td>\n",
       "      <td>1.0</td>\n",
       "    </tr>\n",
       "    <tr>\n",
       "      <th>7</th>\n",
       "      <td>CH</td>\n",
       "      <td>41.0</td>\n",
       "      <td>6</td>\n",
       "      <td>2.0</td>\n",
       "      <td>4.0</td>\n",
       "      <td>5.0</td>\n",
       "      <td>3.0</td>\n",
       "      <td>10.0</td>\n",
       "      <td>5.0</td>\n",
       "      <td>2.0</td>\n",
       "      <td>2.0</td>\n",
       "      <td>30.0</td>\n",
       "      <td>1.0</td>\n",
       "    </tr>\n",
       "    <tr>\n",
       "      <th>8</th>\n",
       "      <td>CH</td>\n",
       "      <td>51.0</td>\n",
       "      <td>6</td>\n",
       "      <td>2.0</td>\n",
       "      <td>8.0</td>\n",
       "      <td>8.0</td>\n",
       "      <td>8.0</td>\n",
       "      <td>9.0</td>\n",
       "      <td>6.0</td>\n",
       "      <td>4.0</td>\n",
       "      <td>2.0</td>\n",
       "      <td>84.0</td>\n",
       "      <td>2.0</td>\n",
       "    </tr>\n",
       "    <tr>\n",
       "      <th>9</th>\n",
       "      <td>CH</td>\n",
       "      <td>53.0</td>\n",
       "      <td>6</td>\n",
       "      <td>4.0</td>\n",
       "      <td>4.0</td>\n",
       "      <td>4.0</td>\n",
       "      <td>8.0</td>\n",
       "      <td>7.0</td>\n",
       "      <td>4.0</td>\n",
       "      <td>2.0</td>\n",
       "      <td>2.0</td>\n",
       "      <td>62.0</td>\n",
       "      <td>1.0</td>\n",
       "    </tr>\n",
       "    <tr>\n",
       "      <th>10</th>\n",
       "      <td>CH</td>\n",
       "      <td>55.0</td>\n",
       "      <td>6</td>\n",
       "      <td>1.0</td>\n",
       "      <td>6.0</td>\n",
       "      <td>7.0</td>\n",
       "      <td>7.0</td>\n",
       "      <td>9.0</td>\n",
       "      <td>5.0</td>\n",
       "      <td>2.0</td>\n",
       "      <td>2.0</td>\n",
       "      <td>33.0</td>\n",
       "      <td>1.0</td>\n",
       "    </tr>\n",
       "  </tbody>\n",
       "</table>\n",
       "</div>"
      ],
      "text/plain": [
       "   cntry  idno  year  tvtot  ppltrst  pplfair  pplhlp  happy  sclmeet  sclact  \\\n",
       "0     CH   5.0     6    3.0      3.0     10.0     5.0    8.0      5.0     4.0   \n",
       "1     CH  25.0     6    6.0      5.0      7.0     5.0    9.0      3.0     2.0   \n",
       "2     CH  26.0     6    1.0      8.0      8.0     8.0    7.0      6.0     3.0   \n",
       "3     CH  28.0     6    4.0      6.0      6.0     7.0   10.0      6.0     2.0   \n",
       "4     CH  29.0     6    5.0      6.0      7.0     5.0    8.0      7.0     2.0   \n",
       "6     CH  40.0     6    3.0      0.0      5.0     2.0    0.0      2.0     2.0   \n",
       "7     CH  41.0     6    2.0      4.0      5.0     3.0   10.0      5.0     2.0   \n",
       "8     CH  51.0     6    2.0      8.0      8.0     8.0    9.0      6.0     4.0   \n",
       "9     CH  53.0     6    4.0      4.0      4.0     8.0    7.0      4.0     2.0   \n",
       "10    CH  55.0     6    1.0      6.0      7.0     7.0    9.0      5.0     2.0   \n",
       "\n",
       "    gndr  agea  partner  \n",
       "0    2.0  60.0      1.0  \n",
       "1    2.0  59.0      1.0  \n",
       "2    1.0  24.0      2.0  \n",
       "3    2.0  64.0      1.0  \n",
       "4    2.0  55.0      1.0  \n",
       "6    1.0  76.0      1.0  \n",
       "7    2.0  30.0      1.0  \n",
       "8    2.0  84.0      2.0  \n",
       "9    2.0  62.0      1.0  \n",
       "10   2.0  33.0      1.0  "
      ]
     },
     "execution_count": 3,
     "metadata": {},
     "output_type": "execute_result"
    }
   ],
   "source": [
    "europe_df = pd.read_csv((\n",
    "    \"https://raw.githubusercontent.com/Thinkful-Ed/data-201-resources/\"\n",
    "    \"master/ESS_practice_data/ESSdata_Thinkful.csv\")).dropna()\n",
    "\n",
    "europe_df.head(10)"
   ]
  },
  {
   "cell_type": "code",
   "execution_count": 4,
   "metadata": {},
   "outputs": [
    {
     "data": {
      "image/png": "[encoded data removed]",
      "text/plain": [
       "<Figure size 432x288 with 12 Axes>"
      ]
     },
     "metadata": {
      "needs_background": "light"
     },
     "output_type": "display_data"
    }
   ],
   "source": [
    "europe_df.hist()\n",
    "plt.show()"
   ]
  },
  {
   "cell_type": "code",
   "execution_count": 5,
   "metadata": {},
   "outputs": [
    {
     "name": "stdout",
     "output_type": "stream",
     "text": [
      "8147\n"
     ]
    }
   ],
   "source": [
    "print(len(europe_df))"
   ]
  },
  {
   "cell_type": "markdown",
   "metadata": {},
   "source": [
    "# 1) Did people become less trusting from 2012 to 2014? Compute results for each country in the sample."
   ]
  },
  {
   "cell_type": "markdown",
   "metadata": {},
   "source": [
    "The t-test for paired samples will be utilized because the comparison is between two years where all participants experienced both versions."
   ]
  },
  {
   "cell_type": "code",
   "execution_count": 6,
   "metadata": {},
   "outputs": [
    {
     "name": "stdout",
     "output_type": "stream",
     "text": [
      "cntry\n",
      "CH    5.685792\n",
      "CZ    4.402662\n",
      "DE    5.076923\n",
      "ES    5.127807\n",
      "NO    6.648305\n",
      "SE    6.043073\n",
      "Name: ppltrst, dtype: float64\n",
      "KstestResult(statistic=0.9999946534712008, pvalue=4.671554917982289e-32)\n",
      "cntry\n",
      "CH    5.764468\n",
      "CZ    4.356436\n",
      "DE    5.357143\n",
      "ES    4.940035\n",
      "NO    6.599719\n",
      "SE    6.239908\n",
      "Name: ppltrst, dtype: float64\n",
      "KstestResult(statistic=0.999993390123089, pvalue=1.667977655659105e-31)\n"
     ]
    }
   ],
   "source": [
    "europe_df_2012 = europe_df.loc[europe_df['year'] == 6]\n",
    "europe_df_2012 = europe_df_2012.groupby(europe_df_2012['cntry'])['ppltrst'].mean()\n",
    "print(europe_df_2012)\n",
    "\n",
    "print(stats.kstest(europe_df_2012, 'norm'))\n",
    "europe_df_2014 = europe_df.loc[europe_df['year'] == 7]\n",
    "europe_df_2014 = europe_df_2014.groupby(europe_df_2014['cntry'])['ppltrst'].mean()\n",
    "print(europe_df_2014)\n",
    "print(stats.kstest(europe_df_2014, 'norm'))"
   ]
  },
  {
   "cell_type": "code",
   "execution_count": null,
   "metadata": {},
   "outputs": [],
   "source": [
    "# The p-value of approximately 0 here reveals that distribution is unusual, so a wilcoxon must be used."
   ]
  },
  {
   "cell_type": "code",
   "execution_count": 8,
   "metadata": {},
   "outputs": [
    {
     "name": "stderr",
     "output_type": "stream",
     "text": [
      "C:\\ANACONDA\\lib\\site-packages\\scipy\\stats\\morestats.py:2778: UserWarning: Warning: sample size too small for normal approximation.\n",
      "  warnings.warn(\"Warning: sample size too small for normal approximation.\")\n"
     ]
    },
    {
     "data": {
      "text/plain": [
       "WilcoxonResult(statistic=7.0, pvalue=0.463071015014588)"
      ]
     },
     "execution_count": 8,
     "metadata": {},
     "output_type": "execute_result"
    }
   ],
   "source": [
    "stats.wilcoxon(europe_df_2012,europe_df_2014)"
   ]
  },
  {
   "cell_type": "markdown",
   "metadata": {},
   "source": [
    "The high p-value of approximately 0.46 indicates that the null hypothesis of the two paired samples cannot be denied."
   ]
  },
  {
   "cell_type": "markdown",
   "metadata": {},
   "source": [
    "# 2) Did people become happier from 2012 to 2014? Compute results for each country in the sample."
   ]
  },
  {
   "cell_type": "markdown",
   "metadata": {},
   "source": [
    "The t-test for paired samples will be utilized because the comparison is between two years where all participants experienced both versions."
   ]
  },
  {
   "cell_type": "code",
   "execution_count": 9,
   "metadata": {},
   "outputs": [
    {
     "name": "stdout",
     "output_type": "stream",
     "text": [
      "KstestResult(statistic=0.993185621094053, pvalue=0.0)\n",
      "KstestResult(statistic=0.9656026134761136, pvalue=0.0)\n",
      "KstestResult(statistic=0.9999683287581669, pvalue=6.451730196491971e-59)\n",
      "KstestResult(statistic=0.9779247133673337, pvalue=0.0)\n",
      "KstestResult(statistic=0.9930003844542457, pvalue=0.0)\n",
      "KstestResult(statistic=0.9928293801988705, pvalue=0.0)\n",
      "CH MannwhitneyuResult(statistic=265131.5, pvalue=0.19495027197081582)\n",
      "CZ MannwhitneyuResult(statistic=176796.0, pvalue=0.18724347670459124)\n",
      "DE MannwhitneyuResult(statistic=73.5, pvalue=0.19313536018324134)\n",
      "ES MannwhitneyuResult(statistic=629830.0, pvalue=0.04263522765394516)\n",
      "NO MannwhitneyuResult(statistic=220453.5, pvalue=1.2346345897635287e-05)\n",
      "SE MannwhitneyuResult(statistic=369192.0, pvalue=0.37586498218551584)\n"
     ]
    }
   ],
   "source": [
    "europe_df_2012 = europe_df.loc[europe_df['year'] ==6]\n",
    "for unique in europe_df_2012.cntry.unique():\n",
    "    cntry = unique\n",
    "    europe_df_use = europe_df_2012[europe_df_2012['cntry'] == cntry]\n",
    "    print(stats.kstest(europe_df_use['happy'].dropna(),'norm'))\n",
    "    \n",
    "    \n",
    "europe_df.happy.dropna()\n",
    "europe_df_2012 = europe_df.loc[europe_df['year'] == 6]\n",
    "europe_df_2014 = europe_df.loc[europe_df['year'] == 7]\n",
    "for unique in europe_df_2012.cntry.unique():\n",
    "    cntry = unique\n",
    "    europe_df_use2012 = europe_df_2012[europe_df_2012['cntry'] == cntry]\n",
    "    for unique2 in europe_df_2014.cntry.unique():\n",
    "        if unique2 == unique:\n",
    "            cntry2 = unique2\n",
    "            europe_df_use2014 = europe_df_2014[europe_df_2014['cntry']==cntry]\n",
    "            print(cntry, stats.mannwhitneyu(europe_df_use2012['happy'], europe_df_use2014['happy']))"
   ]
  },
  {
   "cell_type": "markdown",
   "metadata": {},
   "source": [
    "There was no change in happiness for the countries where the p-value is bigger than 0.05."
   ]
  },
  {
   "cell_type": "markdown",
   "metadata": {},
   "source": [
    "# 3) Who reported watching more TV in 2012, men or women?"
   ]
  },
  {
   "cell_type": "code",
   "execution_count": 10,
   "metadata": {},
   "outputs": [
    {
     "name": "stdout",
     "output_type": "stream",
     "text": [
      "KstestResult(statistic=0.8538603735027623, pvalue=0.0)\n",
      "KstestResult(statistic=0.8564510370727657, pvalue=0.0)\n",
      "MannwhitneyuResult(statistic=2042391.5, pvalue=0.2165401933322842)\n"
     ]
    }
   ],
   "source": [
    "europe_df.tvtot.dropna()\n",
    "europe_df_2012 = europe_df.loc[europe_df['year'] == 6]\n",
    "\n",
    "for unique in europe_df_2012.gndr.unique():\n",
    "    gndr = unique\n",
    "    europe_df_use = europe_df_2012[europe_df_2012['gndr'] == gndr]\n",
    "    print(stats.kstest(europe_df_use['tvtot'].dropna(),'norm'))\n",
    "    \n",
    "men = europe_df_2012[europe_df_2012['gndr'] == 1]\n",
    "women = europe_df_2012[europe_df_2012['gndr'] == 2]\n",
    "print(stats.mannwhitneyu(men['tvtot'],women['tvtot'],alternative = 'less'))"
   ]
  },
  {
   "cell_type": "markdown",
   "metadata": {},
   "source": [
    "The Mann Whitney U test ranks the tvtot values for the males versus the tvtot values for the females because the males were passed first; and the null hypothesis that men and women watched the same amount of TV cannot be denied because the p-value is so high."
   ]
  },
  {
   "cell_type": "markdown",
   "metadata": {},
   "source": [
    "# 4) Who was more likely to believe people were fair in 2012, people living with a partner or people living alone?"
   ]
  },
  {
   "cell_type": "markdown",
   "metadata": {},
   "source": [
    "A t-test for independent samples is utilized because the comparison is between two independent groups."
   ]
  },
  {
   "cell_type": "code",
   "execution_count": 11,
   "metadata": {},
   "outputs": [
    {
     "name": "stdout",
     "output_type": "stream",
     "text": [
      "KstestResult(statistic=0.9423690033994012, pvalue=0.0)\n",
      "MannwhitneyuResult(statistic=6224559.0, pvalue=6.173681213829895e-112)\n"
     ]
    }
   ],
   "source": [
    "partnerfair = europe_df.loc[europe_df['year']==6]\n",
    "\n",
    "print(stats.kstest(partnerfair['pplfair'].dropna(), 'norm'))\n",
    "\n",
    "# It is not a normal use of mannwhitneyu.\n",
    "print(stats.mannwhitneyu(partnerfair['partner']==1, partnerfair['partner']==2))"
   ]
  },
  {
   "cell_type": "markdown",
   "metadata": {},
   "source": [
    "The low p-value here suggests that the null hypothesis of identical scores can be scrapped and that people living with partners were more likely to view people as fair."
   ]
  },
  {
   "cell_type": "markdown",
   "metadata": {},
   "source": [
    "# 5) Pick three or four of the countries in the sample and compare how often people met socially in 2014. Are there differences, and if so, which countries stand out?"
   ]
  },
  {
   "cell_type": "markdown",
   "metadata": {},
   "source": [
    "Multiple independent groups with non-normal distribution mean that a median test is required."
   ]
  },
  {
   "cell_type": "code",
   "execution_count": 12,
   "metadata": {},
   "outputs": [
    {
     "name": "stdout",
     "output_type": "stream",
     "text": [
      "CH KStest:  KstestResult(statistic=0.9999997133484281, pvalue=5.733031438470704e-07)\n",
      "CZ KStest:  KstestResult(statistic=0.9999997133484281, pvalue=5.733031438470704e-07)\n",
      "DE KStest:  KstestResult(statistic=0.9999683287581669, pvalue=6.334248366623996e-05)\n",
      "Median Test:  (8.440963041728674, 0.014691568504652792, 3.0, array([[138,  79,   1],\n",
      "       [605, 527,  13]], dtype=int64))\n"
     ]
    }
   ],
   "source": [
    "scl = europe_df.loc[europe_df['year'] == 7]\n",
    "\n",
    "CH = scl[scl['cntry']=='CH'].dropna()\n",
    "CH = CH.sclact\n",
    "CZ = scl[scl['cntry']=='CZ'].dropna()\n",
    "CZ = CZ.sclact\n",
    "DE = scl[scl['cntry']=='DE'].dropna()\n",
    "DE = DE.sclact\n",
    "\n",
    "print('CH KStest: ', stats.kstest([CH], 'norm'))\n",
    "print('CZ KStest: ', stats.kstest([CZ], 'norm'))\n",
    "print('DE KStest: ', stats.kstest([DE], 'norm'))\n",
    "\n",
    "print('Median Test: ', stats.median_test(CH,CZ,DE))"
   ]
  },
  {
   "cell_type": "markdown",
   "metadata": {},
   "source": [
    "The p-value is below 0.05, so the null hypothesis can be rejected, and the array lists the number of values above the grand median first and the number of values below the grand median second. The three countries have diverse ratios of under versus over values, with DE having the biggest difference, then CZ having the second biggest difference."
   ]
  },
  {
   "cell_type": "markdown",
   "metadata": {},
   "source": [
    "# 6) Pick three or four of the countries in the sample and compare how often people took part in social activities, relative to others their age, in 2014. Are there differences, and if so, which countries stand out?"
   ]
  },
  {
   "cell_type": "markdown",
   "metadata": {},
   "source": [
    "Multiple independent groups means that a median test is needed."
   ]
  },
  {
   "cell_type": "code",
   "execution_count": 13,
   "metadata": {},
   "outputs": [
    {
     "name": "stdout",
     "output_type": "stream",
     "text": [
      "(107,) (95,) (94,)\n"
     ]
    },
    {
     "data": {
      "text/plain": [
       "(0.16104360285522612, 0.9226347886089327, 3.0, array([[16, 15, 16],\n",
       "        [91, 80, 78]], dtype=int64))"
      ]
     },
     "execution_count": 13,
     "metadata": {},
     "output_type": "execute_result"
    }
   ],
   "source": [
    "# Must sort by country and then age. After that, a comparison of each country's age group versus another's sclact must be done.\n",
    "\n",
    "scl = europe_df.loc[europe_df['year']==7]\n",
    "\n",
    "CH = scl[scl['cntry']=='CH'].dropna()\n",
    "CZ = scl[scl['cntry']=='CZ'].dropna()\n",
    "NO = scl[scl['cntry']=='NO'].dropna()\n",
    "\n",
    "CH_twenty_thirty = CH[CH['agea']<30]\n",
    "CH_twenty_thirty = CH_twenty_thirty[CH_twenty_thirty['agea']>=20]\n",
    "CH_twenty_thirty = CH_twenty_thirty.sclact\n",
    "CZ_twenty_thirty = CZ[CZ['agea']<30]\n",
    "CZ_twenty_thirty = CZ_twenty_thirty[CZ_twenty_thirty['agea']>=20]\n",
    "CZ_twenty_thirty = CZ_twenty_thirty.sclact\n",
    "NO_twenty_thirty = NO[NO['agea']<30]\n",
    "NO_twenty_thirty = NO_twenty_thirty[NO_twenty_thirty['agea']>=20]\n",
    "NO_twenty_thirty = NO_twenty_thirty.sclact\n",
    "\n",
    "print(CH_twenty_thirty.shape, CZ_twenty_thirty.shape, NO_twenty_thirty.shape)\n",
    "\n",
    "stats.median_test(CH_twenty_thirty, CZ_twenty_thirty, NO_twenty_thirty)"
   ]
  },
  {
   "cell_type": "markdown",
   "metadata": {},
   "source": [
    "The high p-value here indicates that the null hypothesis of identical medians cannot be denied."
   ]
  }
 ],
 "metadata": {
  "kernelspec": {
   "display_name": "Python 3",
   "language": "python",
   "name": "python3"
  },
  "language_info": {
   "codemirror_mode": {
    "name": "ipython",
    "version": 3
   },
   "file_extension": ".py",
   "mimetype": "text/x-python",
   "name": "python",
   "nbconvert_exporter": "python",
   "pygments_lexer": "ipython3",
   "version": "3.7.3"
  }
 },
 "nbformat": 4,
 "nbformat_minor": 2
}
