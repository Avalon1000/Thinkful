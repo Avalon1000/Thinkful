{
 "cells": [
  {
   "cell_type": "markdown",
   "metadata": {},
   "source": [
    "# Capstone 1 Report\n",
    "\n",
    "# Introduction"
   ]
  },
  {
   "cell_type": "markdown",
   "metadata": {},
   "source": [
    "The data set that I chose to use is the IBM HR Analytics Employee Attrition and Performance data set. My data set \n",
    "contains the data of one thousand four hundred and seventy IBM employees regarding thirty-five categories such as age, attrition, business travel, daily rate, \n",
    "department, distance from home, education, education field, employee count, and employee number. The Attrition and \n",
    "Performance data set is fictional and it was created by IBM data scientists. This data set is significant because it \n",
    "discusses the factors that lead to attrition among IBM workers. I will pose three questions regarding the ages, employee \n",
    "attrition, relationship satisfaction, and total working years of the workers and I will answer these questions by using \n",
    "a series of histograms, box plots, scatter plots, and t-tests. After I find the answers using the histograms, box plots, \n",
    "scatter plots, and t-tests I will hypothesize why the answers are as they are then I will give a proposal for \n",
    "further research."
   ]
  },
  {
   "cell_type": "code",
   "execution_count": 1,
   "metadata": {},
   "outputs": [],
   "source": [
    "import matplotlib.pyplot as plt\n",
    "import numpy as np\n",
    "import pandas as pd"
   ]
  },
  {
   "cell_type": "code",
   "execution_count": 2,
   "metadata": {},
   "outputs": [
    {
     "name": "stdout",
     "output_type": "stream",
     "text": [
      "      Age Attrition     BusinessTravel  DailyRate              Department  \\\n",
      "0      41       Yes      Travel_Rarely       1102                   Sales   \n",
      "1      49        No  Travel_Frequently        279  Research & Development   \n",
      "2      37       Yes      Travel_Rarely       1373  Research & Development   \n",
      "3      33        No  Travel_Frequently       1392  Research & Development   \n",
      "4      27        No      Travel_Rarely        591  Research & Development   \n",
      "5      32        No  Travel_Frequently       1005  Research & Development   \n",
      "6      59        No      Travel_Rarely       1324  Research & Development   \n",
      "7      30        No      Travel_Rarely       1358  Research & Development   \n",
      "8      38        No  Travel_Frequently        216  Research & Development   \n",
      "9      36        No      Travel_Rarely       1299  Research & Development   \n",
      "10     35        No      Travel_Rarely        809  Research & Development   \n",
      "11     29        No      Travel_Rarely        153  Research & Development   \n",
      "12     31        No      Travel_Rarely        670  Research & Development   \n",
      "13     34        No      Travel_Rarely       1346  Research & Development   \n",
      "14     28       Yes      Travel_Rarely        103  Research & Development   \n",
      "15     29        No      Travel_Rarely       1389  Research & Development   \n",
      "16     32        No      Travel_Rarely        334  Research & Development   \n",
      "17     22        No         Non-Travel       1123  Research & Development   \n",
      "18     53        No      Travel_Rarely       1219                   Sales   \n",
      "19     38        No      Travel_Rarely        371  Research & Development   \n",
      "20     24        No         Non-Travel        673  Research & Development   \n",
      "21     36       Yes      Travel_Rarely       1218                   Sales   \n",
      "22     34        No      Travel_Rarely        419  Research & Development   \n",
      "23     21        No      Travel_Rarely        391  Research & Development   \n",
      "24     34       Yes      Travel_Rarely        699  Research & Development   \n",
      "25     53        No      Travel_Rarely       1282  Research & Development   \n",
      "26     32       Yes  Travel_Frequently       1125  Research & Development   \n",
      "27     42        No      Travel_Rarely        691                   Sales   \n",
      "28     44        No      Travel_Rarely        477  Research & Development   \n",
      "29     46        No      Travel_Rarely        705                   Sales   \n",
      "...   ...       ...                ...        ...                     ...   \n",
      "1440   36        No  Travel_Frequently        688  Research & Development   \n",
      "1441   56        No         Non-Travel        667  Research & Development   \n",
      "1442   29       Yes      Travel_Rarely       1092  Research & Development   \n",
      "1443   42        No      Travel_Rarely        300  Research & Development   \n",
      "1444   56       Yes      Travel_Rarely        310  Research & Development   \n",
      "1445   41        No      Travel_Rarely        582  Research & Development   \n",
      "1446   34        No      Travel_Rarely        704                   Sales   \n",
      "1447   36        No         Non-Travel        301                   Sales   \n",
      "1448   41        No      Travel_Rarely        930                   Sales   \n",
      "1449   32        No      Travel_Rarely        529  Research & Development   \n",
      "1450   35        No      Travel_Rarely       1146         Human Resources   \n",
      "1451   38        No      Travel_Rarely        345                   Sales   \n",
      "1452   50       Yes  Travel_Frequently        878                   Sales   \n",
      "1453   36        No      Travel_Rarely       1120                   Sales   \n",
      "1454   45        No      Travel_Rarely        374                   Sales   \n",
      "1455   40        No      Travel_Rarely       1322  Research & Development   \n",
      "1456   35        No  Travel_Frequently       1199  Research & Development   \n",
      "1457   40        No      Travel_Rarely       1194  Research & Development   \n",
      "1458   35        No      Travel_Rarely        287  Research & Development   \n",
      "1459   29        No      Travel_Rarely       1378  Research & Development   \n",
      "1460   29        No      Travel_Rarely        468  Research & Development   \n",
      "1461   50       Yes      Travel_Rarely        410                   Sales   \n",
      "1462   39        No      Travel_Rarely        722                   Sales   \n",
      "1463   31        No         Non-Travel        325  Research & Development   \n",
      "1464   26        No      Travel_Rarely       1167                   Sales   \n",
      "1465   36        No  Travel_Frequently        884  Research & Development   \n",
      "1466   39        No      Travel_Rarely        613  Research & Development   \n",
      "1467   27        No      Travel_Rarely        155  Research & Development   \n",
      "1468   49        No  Travel_Frequently       1023                   Sales   \n",
      "1469   34        No      Travel_Rarely        628  Research & Development   \n",
      "\n",
      "      DistanceFromHome  Education    EducationField  EmployeeCount  \\\n",
      "0                    1          2     Life Sciences              1   \n",
      "1                    8          1     Life Sciences              1   \n",
      "2                    2          2             Other              1   \n",
      "3                    3          4     Life Sciences              1   \n",
      "4                    2          1           Medical              1   \n",
      "5                    2          2     Life Sciences              1   \n",
      "6                    3          3           Medical              1   \n",
      "7                   24          1     Life Sciences              1   \n",
      "8                   23          3     Life Sciences              1   \n",
      "9                   27          3           Medical              1   \n",
      "10                  16          3           Medical              1   \n",
      "11                  15          2     Life Sciences              1   \n",
      "12                  26          1     Life Sciences              1   \n",
      "13                  19          2           Medical              1   \n",
      "14                  24          3     Life Sciences              1   \n",
      "15                  21          4     Life Sciences              1   \n",
      "16                   5          2     Life Sciences              1   \n",
      "17                  16          2           Medical              1   \n",
      "18                   2          4     Life Sciences              1   \n",
      "19                   2          3     Life Sciences              1   \n",
      "20                  11          2             Other              1   \n",
      "21                   9          4     Life Sciences              1   \n",
      "22                   7          4     Life Sciences              1   \n",
      "23                  15          2     Life Sciences              1   \n",
      "24                   6          1           Medical              1   \n",
      "25                   5          3             Other              1   \n",
      "26                  16          1     Life Sciences              1   \n",
      "27                   8          4         Marketing              1   \n",
      "28                   7          4           Medical              1   \n",
      "29                   2          4         Marketing              1   \n",
      "...                ...        ...               ...            ...   \n",
      "1440                 4          2     Life Sciences              1   \n",
      "1441                 1          4     Life Sciences              1   \n",
      "1442                 1          4           Medical              1   \n",
      "1443                 2          3     Life Sciences              1   \n",
      "1444                 7          2  Technical Degree              1   \n",
      "1445                28          4     Life Sciences              1   \n",
      "1446                28          3         Marketing              1   \n",
      "1447                15          4         Marketing              1   \n",
      "1448                 3          3     Life Sciences              1   \n",
      "1449                 2          3  Technical Degree              1   \n",
      "1450                26          4     Life Sciences              1   \n",
      "1451                10          2     Life Sciences              1   \n",
      "1452                 1          4     Life Sciences              1   \n",
      "1453                11          4         Marketing              1   \n",
      "1454                20          3     Life Sciences              1   \n",
      "1455                 2          4     Life Sciences              1   \n",
      "1456                18          4     Life Sciences              1   \n",
      "1457                 2          4           Medical              1   \n",
      "1458                 1          4     Life Sciences              1   \n",
      "1459                13          2             Other              1   \n",
      "1460                28          4           Medical              1   \n",
      "1461                28          3         Marketing              1   \n",
      "1462                24          1         Marketing              1   \n",
      "1463                 5          3           Medical              1   \n",
      "1464                 5          3             Other              1   \n",
      "1465                23          2           Medical              1   \n",
      "1466                 6          1           Medical              1   \n",
      "1467                 4          3     Life Sciences              1   \n",
      "1468                 2          3           Medical              1   \n",
      "1469                 8          3           Medical              1   \n",
      "\n",
      "      EmployeeNumber  ...  RelationshipSatisfaction StandardHours  \\\n",
      "0                  1  ...                         1            80   \n",
      "1                  2  ...                         4            80   \n",
      "2                  4  ...                         2            80   \n",
      "3                  5  ...                         3            80   \n",
      "4                  7  ...                         4            80   \n",
      "5                  8  ...                         3            80   \n",
      "6                 10  ...                         1            80   \n",
      "7                 11  ...                         2            80   \n",
      "8                 12  ...                         2            80   \n",
      "9                 13  ...                         2            80   \n",
      "10                14  ...                         3            80   \n",
      "11                15  ...                         4            80   \n",
      "12                16  ...                         4            80   \n",
      "13                18  ...                         3            80   \n",
      "14                19  ...                         2            80   \n",
      "15                20  ...                         3            80   \n",
      "16                21  ...                         4            80   \n",
      "17                22  ...                         2            80   \n",
      "18                23  ...                         3            80   \n",
      "19                24  ...                         3            80   \n",
      "20                26  ...                         4            80   \n",
      "21                27  ...                         2            80   \n",
      "22                28  ...                         3            80   \n",
      "23                30  ...                         4            80   \n",
      "24                31  ...                         3            80   \n",
      "25                32  ...                         4            80   \n",
      "26                33  ...                         2            80   \n",
      "27                35  ...                         4            80   \n",
      "28                36  ...                         4            80   \n",
      "29                38  ...                         4            80   \n",
      "...              ...  ...                       ...           ...   \n",
      "1440            2025  ...                         2            80   \n",
      "1441            2026  ...                         1            80   \n",
      "1442            2027  ...                         2            80   \n",
      "1443            2031  ...                         1            80   \n",
      "1444            2032  ...                         4            80   \n",
      "1445            2034  ...                         3            80   \n",
      "1446            2035  ...                         4            80   \n",
      "1447            2036  ...                         1            80   \n",
      "1448            2037  ...                         3            80   \n",
      "1449            2038  ...                         4            80   \n",
      "1450            2040  ...                         3            80   \n",
      "1451            2041  ...                         3            80   \n",
      "1452            2044  ...                         4            80   \n",
      "1453            2045  ...                         1            80   \n",
      "1454            2046  ...                         3            80   \n",
      "1455            2048  ...                         4            80   \n",
      "1456            2049  ...                         4            80   \n",
      "1457            2051  ...                         2            80   \n",
      "1458            2052  ...                         4            80   \n",
      "1459            2053  ...                         1            80   \n",
      "1460            2054  ...                         2            80   \n",
      "1461            2055  ...                         2            80   \n",
      "1462            2056  ...                         1            80   \n",
      "1463            2057  ...                         2            80   \n",
      "1464            2060  ...                         4            80   \n",
      "1465            2061  ...                         3            80   \n",
      "1466            2062  ...                         1            80   \n",
      "1467            2064  ...                         2            80   \n",
      "1468            2065  ...                         4            80   \n",
      "1469            2068  ...                         1            80   \n",
      "\n",
      "      StockOptionLevel  TotalWorkingYears  TrainingTimesLastYear  \\\n",
      "0                    0                  8                      0   \n",
      "1                    1                 10                      3   \n",
      "2                    0                  7                      3   \n",
      "3                    0                  8                      3   \n",
      "4                    1                  6                      3   \n",
      "5                    0                  8                      2   \n",
      "6                    3                 12                      3   \n",
      "7                    1                  1                      2   \n",
      "8                    0                 10                      2   \n",
      "9                    2                 17                      3   \n",
      "10                   1                  6                      5   \n",
      "11                   0                 10                      3   \n",
      "12                   1                  5                      1   \n",
      "13                   1                  3                      2   \n",
      "14                   0                  6                      4   \n",
      "15                   1                 10                      1   \n",
      "16                   2                  7                      5   \n",
      "17                   2                  1                      2   \n",
      "18                   0                 31                      3   \n",
      "19                   0                  6                      3   \n",
      "20                   1                  5                      5   \n",
      "21                   0                 10                      4   \n",
      "22                   0                 13                      4   \n",
      "23                   0                  0                      6   \n",
      "24                   0                  8                      2   \n",
      "25                   1                 26                      3   \n",
      "26                   0                 10                      5   \n",
      "27                   1                 10                      2   \n",
      "28                   1                 24                      4   \n",
      "29                   0                 22                      2   \n",
      "...                ...                ...                    ...   \n",
      "1440                 3                 18                      3   \n",
      "1441                 1                 13                      2   \n",
      "1442                 3                  4                      3   \n",
      "1443                 0                 24                      2   \n",
      "1444                 1                 14                      4   \n",
      "1445                 1                 21                      3   \n",
      "1446                 2                  8                      2   \n",
      "1447                 1                 15                      4   \n",
      "1448                 1                 14                      5   \n",
      "1449                 0                  4                      4   \n",
      "1450                 0                  9                      2   \n",
      "1451                 1                 10                      1   \n",
      "1452                 2                 12                      3   \n",
      "1453                 1                  8                      2   \n",
      "1454                 0                  8                      3   \n",
      "1455                 0                  8                      2   \n",
      "1456                 2                 10                      2   \n",
      "1457                 3                 20                      2   \n",
      "1458                 1                  4                      5   \n",
      "1459                 1                 10                      2   \n",
      "1460                 0                  5                      3   \n",
      "1461                 1                 20                      3   \n",
      "1462                 1                 21                      2   \n",
      "1463                 0                 10                      2   \n",
      "1464                 0                  5                      2   \n",
      "1465                 1                 17                      3   \n",
      "1466                 1                  9                      5   \n",
      "1467                 1                  6                      0   \n",
      "1468                 0                 17                      3   \n",
      "1469                 0                  6                      3   \n",
      "\n",
      "     WorkLifeBalance  YearsAtCompany YearsInCurrentRole  \\\n",
      "0                  1               6                  4   \n",
      "1                  3              10                  7   \n",
      "2                  3               0                  0   \n",
      "3                  3               8                  7   \n",
      "4                  3               2                  2   \n",
      "5                  2               7                  7   \n",
      "6                  2               1                  0   \n",
      "7                  3               1                  0   \n",
      "8                  3               9                  7   \n",
      "9                  2               7                  7   \n",
      "10                 3               5                  4   \n",
      "11                 3               9                  5   \n",
      "12                 2               5                  2   \n",
      "13                 3               2                  2   \n",
      "14                 3               4                  2   \n",
      "15                 3              10                  9   \n",
      "16                 2               6                  2   \n",
      "17                 2               1                  0   \n",
      "18                 3              25                  8   \n",
      "19                 3               3                  2   \n",
      "20                 2               4                  2   \n",
      "21                 3               5                  3   \n",
      "22                 3              12                  6   \n",
      "23                 3               0                  0   \n",
      "24                 3               4                  2   \n",
      "25                 2              14                 13   \n",
      "26                 3              10                  2   \n",
      "27                 3               9                  7   \n",
      "28                 3              22                  6   \n",
      "29                 2               2                  2   \n",
      "...              ...             ...                ...   \n",
      "1440               3               4                  2   \n",
      "1441               2              13                 12   \n",
      "1442               4               2                  2   \n",
      "1443               2              22                  6   \n",
      "1444               1              10                  9   \n",
      "1445               3              20                  7   \n",
      "1446               3               8                  7   \n",
      "1447               2              15                 12   \n",
      "1448               3               5                  4   \n",
      "1449               3               4                  2   \n",
      "1450               3               9                  0   \n",
      "1451               3              10                  7   \n",
      "1452               3               6                  3   \n",
      "1453               2               6                  3   \n",
      "1454               3               5                  3   \n",
      "1455               3               2                  2   \n",
      "1456               4              10                  2   \n",
      "1457               3               5                  3   \n",
      "1458               3               4                  3   \n",
      "1459               3               4                  3   \n",
      "1460               1               5                  4   \n",
      "1461               3               3                  2   \n",
      "1462               2              20                  9   \n",
      "1463               3               9                  4   \n",
      "1464               3               4                  2   \n",
      "1465               3               5                  2   \n",
      "1466               3               7                  7   \n",
      "1467               3               6                  2   \n",
      "1468               2               9                  6   \n",
      "1469               4               4                  3   \n",
      "\n",
      "      YearsSinceLastPromotion  YearsWithCurrManager  \n",
      "0                           0                     5  \n",
      "1                           1                     7  \n",
      "2                           0                     0  \n",
      "3                           3                     0  \n",
      "4                           2                     2  \n",
      "5                           3                     6  \n",
      "6                           0                     0  \n",
      "7                           0                     0  \n",
      "8                           1                     8  \n",
      "9                           7                     7  \n",
      "10                          0                     3  \n",
      "11                          0                     8  \n",
      "12                          4                     3  \n",
      "13                          1                     2  \n",
      "14                          0                     3  \n",
      "15                          8                     8  \n",
      "16                          0                     5  \n",
      "17                          0                     0  \n",
      "18                          3                     7  \n",
      "19                          1                     2  \n",
      "20                          1                     3  \n",
      "21                          0                     3  \n",
      "22                          2                    11  \n",
      "23                          0                     0  \n",
      "24                          1                     3  \n",
      "25                          4                     8  \n",
      "26                          6                     7  \n",
      "27                          4                     2  \n",
      "28                          5                    17  \n",
      "29                          2                     1  \n",
      "...                       ...                   ...  \n",
      "1440                        0                     2  \n",
      "1441                        1                     9  \n",
      "1442                        2                     2  \n",
      "1443                        4                    14  \n",
      "1444                        9                     8  \n",
      "1445                        0                    10  \n",
      "1446                        1                     7  \n",
      "1447                       11                    11  \n",
      "1448                        0                     4  \n",
      "1449                        1                     2  \n",
      "1450                        1                     7  \n",
      "1451                        1                     9  \n",
      "1452                        0                     1  \n",
      "1453                        0                     0  \n",
      "1454                        0                     1  \n",
      "1455                        2                     2  \n",
      "1456                        0                     2  \n",
      "1457                        0                     2  \n",
      "1458                        1                     1  \n",
      "1459                        0                     3  \n",
      "1460                        0                     4  \n",
      "1461                        2                     0  \n",
      "1462                        9                     6  \n",
      "1463                        1                     7  \n",
      "1464                        0                     0  \n",
      "1465                        0                     3  \n",
      "1466                        1                     7  \n",
      "1467                        0                     3  \n",
      "1468                        0                     8  \n",
      "1469                        1                     2  \n",
      "\n",
      "[1470 rows x 35 columns]\n"
     ]
    }
   ],
   "source": [
    "df = pd.read_excel (r'C:\\Users\\darin\\Downloads\\WA_Fn-UseC_-HR-Employee-Attrition.xlsx')\n",
    "print (df)"
   ]
  },
  {
   "cell_type": "code",
   "execution_count": 3,
   "metadata": {},
   "outputs": [
    {
     "data": {
      "text/html": [
       "<div>\n",
       "<style scoped>\n",
       "    .dataframe tbody tr th:only-of-type {\n",
       "        vertical-align: middle;\n",
       "    }\n",
       "\n",
       "    .dataframe tbody tr th {\n",
       "        vertical-align: top;\n",
       "    }\n",
       "\n",
       "    .dataframe thead th {\n",
       "        text-align: right;\n",
       "    }\n",
       "</style>\n",
       "<table border=\"1\" class=\"dataframe\">\n",
       "  <thead>\n",
       "    <tr style=\"text-align: right;\">\n",
       "      <th></th>\n",
       "      <th>Age</th>\n",
       "      <th>Attrition</th>\n",
       "      <th>BusinessTravel</th>\n",
       "      <th>DailyRate</th>\n",
       "      <th>Department</th>\n",
       "      <th>DistanceFromHome</th>\n",
       "      <th>Education</th>\n",
       "      <th>EducationField</th>\n",
       "      <th>EmployeeCount</th>\n",
       "      <th>EmployeeNumber</th>\n",
       "      <th>...</th>\n",
       "      <th>RelationshipSatisfaction</th>\n",
       "      <th>StandardHours</th>\n",
       "      <th>StockOptionLevel</th>\n",
       "      <th>TotalWorkingYears</th>\n",
       "      <th>TrainingTimesLastYear</th>\n",
       "      <th>WorkLifeBalance</th>\n",
       "      <th>YearsAtCompany</th>\n",
       "      <th>YearsInCurrentRole</th>\n",
       "      <th>YearsSinceLastPromotion</th>\n",
       "      <th>YearsWithCurrManager</th>\n",
       "    </tr>\n",
       "  </thead>\n",
       "  <tbody>\n",
       "    <tr>\n",
       "      <th>0</th>\n",
       "      <td>41</td>\n",
       "      <td>Yes</td>\n",
       "      <td>Travel_Rarely</td>\n",
       "      <td>1102</td>\n",
       "      <td>Sales</td>\n",
       "      <td>1</td>\n",
       "      <td>2</td>\n",
       "      <td>Life Sciences</td>\n",
       "      <td>1</td>\n",
       "      <td>1</td>\n",
       "      <td>...</td>\n",
       "      <td>1</td>\n",
       "      <td>80</td>\n",
       "      <td>0</td>\n",
       "      <td>8</td>\n",
       "      <td>0</td>\n",
       "      <td>1</td>\n",
       "      <td>6</td>\n",
       "      <td>4</td>\n",
       "      <td>0</td>\n",
       "      <td>5</td>\n",
       "    </tr>\n",
       "    <tr>\n",
       "      <th>1</th>\n",
       "      <td>49</td>\n",
       "      <td>No</td>\n",
       "      <td>Travel_Frequently</td>\n",
       "      <td>279</td>\n",
       "      <td>Research &amp; Development</td>\n",
       "      <td>8</td>\n",
       "      <td>1</td>\n",
       "      <td>Life Sciences</td>\n",
       "      <td>1</td>\n",
       "      <td>2</td>\n",
       "      <td>...</td>\n",
       "      <td>4</td>\n",
       "      <td>80</td>\n",
       "      <td>1</td>\n",
       "      <td>10</td>\n",
       "      <td>3</td>\n",
       "      <td>3</td>\n",
       "      <td>10</td>\n",
       "      <td>7</td>\n",
       "      <td>1</td>\n",
       "      <td>7</td>\n",
       "    </tr>\n",
       "    <tr>\n",
       "      <th>2</th>\n",
       "      <td>37</td>\n",
       "      <td>Yes</td>\n",
       "      <td>Travel_Rarely</td>\n",
       "      <td>1373</td>\n",
       "      <td>Research &amp; Development</td>\n",
       "      <td>2</td>\n",
       "      <td>2</td>\n",
       "      <td>Other</td>\n",
       "      <td>1</td>\n",
       "      <td>4</td>\n",
       "      <td>...</td>\n",
       "      <td>2</td>\n",
       "      <td>80</td>\n",
       "      <td>0</td>\n",
       "      <td>7</td>\n",
       "      <td>3</td>\n",
       "      <td>3</td>\n",
       "      <td>0</td>\n",
       "      <td>0</td>\n",
       "      <td>0</td>\n",
       "      <td>0</td>\n",
       "    </tr>\n",
       "    <tr>\n",
       "      <th>3</th>\n",
       "      <td>33</td>\n",
       "      <td>No</td>\n",
       "      <td>Travel_Frequently</td>\n",
       "      <td>1392</td>\n",
       "      <td>Research &amp; Development</td>\n",
       "      <td>3</td>\n",
       "      <td>4</td>\n",
       "      <td>Life Sciences</td>\n",
       "      <td>1</td>\n",
       "      <td>5</td>\n",
       "      <td>...</td>\n",
       "      <td>3</td>\n",
       "      <td>80</td>\n",
       "      <td>0</td>\n",
       "      <td>8</td>\n",
       "      <td>3</td>\n",
       "      <td>3</td>\n",
       "      <td>8</td>\n",
       "      <td>7</td>\n",
       "      <td>3</td>\n",
       "      <td>0</td>\n",
       "    </tr>\n",
       "    <tr>\n",
       "      <th>4</th>\n",
       "      <td>27</td>\n",
       "      <td>No</td>\n",
       "      <td>Travel_Rarely</td>\n",
       "      <td>591</td>\n",
       "      <td>Research &amp; Development</td>\n",
       "      <td>2</td>\n",
       "      <td>1</td>\n",
       "      <td>Medical</td>\n",
       "      <td>1</td>\n",
       "      <td>7</td>\n",
       "      <td>...</td>\n",
       "      <td>4</td>\n",
       "      <td>80</td>\n",
       "      <td>1</td>\n",
       "      <td>6</td>\n",
       "      <td>3</td>\n",
       "      <td>3</td>\n",
       "      <td>2</td>\n",
       "      <td>2</td>\n",
       "      <td>2</td>\n",
       "      <td>2</td>\n",
       "    </tr>\n",
       "  </tbody>\n",
       "</table>\n",
       "<p>5 rows × 35 columns</p>\n",
       "</div>"
      ],
      "text/plain": [
       "   Age Attrition     BusinessTravel  DailyRate              Department  \\\n",
       "0   41       Yes      Travel_Rarely       1102                   Sales   \n",
       "1   49        No  Travel_Frequently        279  Research & Development   \n",
       "2   37       Yes      Travel_Rarely       1373  Research & Development   \n",
       "3   33        No  Travel_Frequently       1392  Research & Development   \n",
       "4   27        No      Travel_Rarely        591  Research & Development   \n",
       "\n",
       "   DistanceFromHome  Education EducationField  EmployeeCount  EmployeeNumber  \\\n",
       "0                 1          2  Life Sciences              1               1   \n",
       "1                 8          1  Life Sciences              1               2   \n",
       "2                 2          2          Other              1               4   \n",
       "3                 3          4  Life Sciences              1               5   \n",
       "4                 2          1        Medical              1               7   \n",
       "\n",
       "   ...  RelationshipSatisfaction StandardHours  StockOptionLevel  \\\n",
       "0  ...                         1            80                 0   \n",
       "1  ...                         4            80                 1   \n",
       "2  ...                         2            80                 0   \n",
       "3  ...                         3            80                 0   \n",
       "4  ...                         4            80                 1   \n",
       "\n",
       "   TotalWorkingYears  TrainingTimesLastYear WorkLifeBalance  YearsAtCompany  \\\n",
       "0                  8                      0               1               6   \n",
       "1                 10                      3               3              10   \n",
       "2                  7                      3               3               0   \n",
       "3                  8                      3               3               8   \n",
       "4                  6                      3               3               2   \n",
       "\n",
       "  YearsInCurrentRole  YearsSinceLastPromotion  YearsWithCurrManager  \n",
       "0                  4                        0                     5  \n",
       "1                  7                        1                     7  \n",
       "2                  0                        0                     0  \n",
       "3                  7                        3                     0  \n",
       "4                  2                        2                     2  \n",
       "\n",
       "[5 rows x 35 columns]"
      ]
     },
     "execution_count": 3,
     "metadata": {},
     "output_type": "execute_result"
    }
   ],
   "source": [
    "attrition = pd.read_excel(r'C:\\Users\\darin\\Downloads\\WA_Fn-UseC_-HR-Employee-Attrition.xlsx')\n",
    "attrition.head()"
   ]
  },
  {
   "cell_type": "markdown",
   "metadata": {},
   "source": [
    "# Analytic Questions\n",
    "\n",
    "# 1) What were the ages of the workers when they left the company?"
   ]
  },
  {
   "cell_type": "code",
   "execution_count": 4,
   "metadata": {},
   "outputs": [
    {
     "data": {
      "image/png": "[encoded data removed]",
      "text/plain": [
       "<Figure size 432x288 with 1 Axes>"
      ]
     },
     "metadata": {
      "needs_background": "light"
     },
     "output_type": "display_data"
    }
   ],
   "source": [
    "plt.hist(attrition['Age']) \n",
    "plt.title('Age And Attrition')\n",
    "plt.xlabel('Ages')\n",
    "plt.ylabel('Attrition')\n",
    "plt.show()"
   ]
  },
  {
   "cell_type": "markdown",
   "metadata": {},
   "source": [
    "The histogram above depicts the ages of employees and the numbers of employees leaving the IBM company due to attrition. \n",
    "The x-axis covers an age range from zero to sixty while the y-axis covers attrition numbers from zero to two hundred and \n",
    "fifty. The histogram indicates that approximately two-thirds of the IBM workers left the company when they were in their \n",
    "late twenties to their early forties. It also indicates that approximately a tenth of the employees left the company when \n",
    "they were in their late tens to their mid-twenties and that approximately a fifth of the workers left the company when \n",
    "they were in their mid-forties to their late fifties."
   ]
  },
  {
   "cell_type": "code",
   "execution_count": 5,
   "metadata": {},
   "outputs": [
    {
     "name": "stdout",
     "output_type": "stream",
     "text": [
      "               Age\n",
      "count  1470.000000\n",
      "mean     36.923810\n",
      "std       9.135373\n",
      "min      18.000000\n",
      "25%      30.000000\n",
      "50%      36.000000\n",
      "75%      43.000000\n",
      "max      60.000000\n"
     ]
    },
    {
     "data": {
      "image/png": "[encoded data removed]",
      "text/plain": [
       "<Figure size 432x288 with 1 Axes>"
      ]
     },
     "metadata": {
      "needs_background": "light"
     },
     "output_type": "display_data"
    }
   ],
   "source": [
    "import pandas as pd\n",
    "\n",
    "df = pd.DataFrame(attrition['Age'])\n",
    "\n",
    "bp = pd.DataFrame.boxplot(attrition['Age'])\n",
    "\n",
    "plt.boxplot(attrition['Age']) \n",
    "plt.title('Age And Attrition')\n",
    "plt.xlabel('Attrition')\n",
    "plt.ylabel('Ages')\n",
    "stats = df.describe()\n",
    "print(stats)\n",
    "plt.show()"
   ]
  },
  {
   "cell_type": "markdown",
   "metadata": {},
   "source": [
    "The box plot above depicts the attrition of the IBM employees and the ages of the employees when they left IBM just like \n",
    "the histogram does. The x-axis covers the attrition and the y-axis covers the age range of the employees from twenty to \n",
    "sixty. The first quartile group consists of workers who left IBM when they were in their late tens to their late twenties \n",
    "while the second quartile consists of workers who left the company when they were in their early thirties to their \n",
    "mid-thirties. The third quartile group consists of employees who left IBM when they were in their late thirties to their \n",
    "early forties while the fourth quartile consists of employees who left IBM when they were in their mid-forties to their \n",
    "late fifties. The minimum of the boxplot is at age eighteen, the maximum is at age sixty, the lower quartile is at age \n",
    "thirty, the upper quartile is at age forty-three, the standard deviation is at about age nine, the mean is at about age \n",
    "thirty-seven, and the median is at age thirty-six. The median of the box plot is thirty-six years of age and this median \n",
    "corresponds with the age range from the late twenties to the early forties from the previous histogram."
   ]
  },
  {
   "cell_type": "code",
   "execution_count": 6,
   "metadata": {},
   "outputs": [
    {
     "data": {
      "image/png": "[encoded data removed]",
      "text/plain": [
       "<Figure size 432x288 with 1 Axes>"
      ]
     },
     "metadata": {
      "needs_background": "light"
     },
     "output_type": "display_data"
    }
   ],
   "source": [
    "import matplotlib.pyplot as plt\n",
    "\n",
    "plt.scatter(x = attrition['Age'], y = attrition['YearsAtCompany'], color = 'red')\n",
    "plt.title('Age And Years At Company')\n",
    "plt.xlabel('Ages')\n",
    "plt.ylabel('Years At Company')\n",
    "plt.show()"
   ]
  },
  {
   "cell_type": "markdown",
   "metadata": {},
   "source": [
    "The scatter plot here depicts the relationship between the ages of IBM workers and the years that the IBM employees have \n",
    "worked at the company at attrition. The x-axis has the ages of workers from twenty to sixty years of age and the y-axis has the years at IBM from zero to forty years. The scatter plot indicates that attrition is high among employees who are about twenty-eight to about forty years old and who have about ten to about twenty-four years of work at the IBM. The scattter plot also indicates that the attrition is low among employees who are about forty to sixty years of age and who have about twenty-four to forty working years at the company. This scatter plot also corresponds to the previous histogram that indicates that workers who are in their late twenties to their early forties have the highest attrition. The scatter plot also corresponds to the previous box plot that indicates that workers who are thirty to forty-three years old have highest attrition.   "
   ]
  },
  {
   "cell_type": "code",
   "execution_count": 7,
   "metadata": {},
   "outputs": [
    {
     "name": "stdout",
     "output_type": "stream",
     "text": [
      "4.9\n",
      "39.1\n",
      "4.64418141900503\n",
      "8.783357468590962\n",
      "34.2\n",
      "2.2216636724950543\n",
      "15.39386920865095\n",
      "Ttest_indResult(statistic=15.39386920865095, pvalue=1.897470923320911e-15)\n"
     ]
    }
   ],
   "source": [
    "import numpy as np\n",
    "import pandas as pd\n",
    "import scipy\n",
    "import matplotlib.pyplot as plt\n",
    "%matplotlib inline\n",
    "\n",
    "population1 = attrition['YearsAtCompany']\n",
    "population2 = attrition['Age']\n",
    "\n",
    "sample1 = attrition['YearsAtCompany'].sample(n = 20 , replace=True)\n",
    "sample2 = attrition['Age'].sample(n = 20 , replace=True)\n",
    "\n",
    "print(sample1.mean())\n",
    "print(sample2.mean())\n",
    "print(sample1.std())\n",
    "print(sample2.std())\n",
    "                       \n",
    "diff = sample2.mean() - sample1.mean()\n",
    "print(diff)\n",
    "                       \n",
    "size = 20\n",
    "sd1 = sample1.std()\n",
    "sd2 = sample2.std()\n",
    "                     \n",
    "diff_se = (((sd1 ** 2) / size) + ((sd2 ** 2) / size)) ** 0.5\n",
    "print(diff_se)\n",
    "                       \n",
    "print(diff/diff_se)\n",
    "\n",
    "from scipy.stats import ttest_ind\n",
    "print(ttest_ind(sample2, sample1, equal_var = False))\n"
   ]
  },
  {
   "cell_type": "markdown",
   "metadata": {},
   "source": [
    "The sample sizes (n) of the age data and the years-at-company data are both twenty while the sample of the age data (sample1) \n",
    "is seven years and the sample of the years-at-company data is about forty-one years. The mean for sample1 (sample1.mean()) \n",
    "is about six years and the mean for sample2 (sample2.mean()) is about nine years. The standard deviation for sample1 \n",
    "(sample1.std()) is about thirty-four years and the standard deviation for sample2 (sample2.std()) is about two years. The \n",
    "difference between the two sample means is about thirty-four and the standard error for the sampling distribution of the \n",
    "means (diff_se) is about two years. The calculated t-value is about fourteen and the statistical t-value is almost the exact \n",
    "same value that the calculated t-value is and the p-value is about nine to the negative sixteenth power. The statistical t-value is big, so there is a big difference between the age group group and the years-at-company group. Also, the p-value is very small, so the data did not happen by chance. "
   ]
  },
  {
   "cell_type": "markdown",
   "metadata": {},
   "source": [
    "I hypothesize that the age ranges of the workers on the histogram and scatter plot is from the late twenties to the early forties and that the median on the box plot is thirty-six because of educational levels, work-life balance, and job levels. The older employees are more likely to have higher education levels than the younger employees and the education levels of the younger employees might have contributed to their job levels being lower than their older associates, so this would mean that the younger workers might have received lower pay and have less power in the company thereby contributing to their departure from IBM. Also, the older workers most likely are better at maintaining a work-life balance, so that would explain why the \n",
    "younger, more inexperienced workers would leave IBM. The younger workers having less of a work-life balance than \n",
    "their older associates would mean that the younger workers who have less of a chance to do their jobs at top capacity. \n",
    "In addition, the older employees would most likely have higher job levels than their younger associates because they \n",
    "were with the company longer, so this would also mean that the younger employees would receive lower pay thereby \n",
    "contributing to their departure from the company. Therefore, education, work-life balance, and job levels are three \n",
    "important factors for why the younger employees might have left the company."
   ]
  },
  {
   "cell_type": "markdown",
   "metadata": {},
   "source": [
    "# 2) Did workers who were happy in relationships leave the company?"
   ]
  },
  {
   "cell_type": "code",
   "execution_count": 8,
   "metadata": {},
   "outputs": [
    {
     "data": {
      "image/png": "[encoded data removed]",
      "text/plain": [
       "<Figure size 432x288 with 1 Axes>"
      ]
     },
     "metadata": {
      "needs_background": "light"
     },
     "output_type": "display_data"
    }
   ],
   "source": [
    "plt.hist(attrition['RelationshipSatisfaction']) \n",
    "plt.title('Relationship Satisfaction And Attrition')\n",
    "plt.xlabel('Relationship Satisfaction')\n",
    "plt.ylabel('Attrition')\n",
    "plt.show()"
   ]
  },
  {
   "cell_type": "markdown",
   "metadata": {},
   "source": [
    "The histogram here depicts the levels of relationship satisfaction of the IBM employees and the attrition of these employees. \n",
    "The x-axis covers the levels of relationship satisfaction from zero to four while the y-axis covers the numbers of attrition \n",
    "from zero to four hundred. Approximately two fifths of the IBM workers who left IBM had relationship satisfaction levels of \n",
    "one and two. In addition, approximately three fifths of the IBM workers who left had relationship satisfaction levels of \n",
    "three and four."
   ]
  },
  {
   "cell_type": "code",
   "execution_count": 9,
   "metadata": {},
   "outputs": [
    {
     "name": "stdout",
     "output_type": "stream",
     "text": [
      "       RelationshipSatisfaction\n",
      "count               1470.000000\n",
      "mean                   2.712245\n",
      "std                    1.081209\n",
      "min                    1.000000\n",
      "25%                    2.000000\n",
      "50%                    3.000000\n",
      "75%                    4.000000\n",
      "max                    4.000000\n"
     ]
    },
    {
     "data": {
      "image/png": "[encoded data removed]",
      "text/plain": [
       "<Figure size 432x288 with 1 Axes>"
      ]
     },
     "metadata": {
      "needs_background": "light"
     },
     "output_type": "display_data"
    }
   ],
   "source": [
    "import pandas as pd\n",
    "\n",
    "df = pd.DataFrame(attrition['RelationshipSatisfaction'])\n",
    "\n",
    "bp = pd.DataFrame.boxplot(attrition['RelationshipSatisfaction'])\n",
    "\n",
    "plt.boxplot(attrition['RelationshipSatisfaction']) \n",
    "plt.title('Relationship Satisfaction And Attrition')\n",
    "plt.xlabel('Attrition')\n",
    "plt.ylabel('Relationship Satisfaction')\n",
    "stats = df.describe()\n",
    "print(stats)\n",
    "plt.show()"
   ]
  },
  {
   "cell_type": "markdown",
   "metadata": {},
   "source": [
    "The box plot here depicts the relationship satisfaction levels of the IBM workers with the attrition of the workers just \n",
    "like the histogram does. The x-axis of the box plot covers attrition and the y-axis covers relationship satisfaction levels \n",
    "from one to four. The box plot here is unique because only three quartile groups are depicted while the fourth quartile \n",
    "group is not depicted. This is because the fourth quartile is equal to the maximum and because of this there is no upper \n",
    "whisker. Therefore, there are only three quartile groups. The first group consists of departed employees who had relationship \n",
    "satisfaction levels from one to two. The second group consists of departed workers who had relationship satisfaction levels \n",
    "from two to three and the third group consists of departed workers who had relationship satisfaction levels from three to \n",
    "four. The minimum is at a relationship satisfaction level of one, the lower quartile is at a level of two, the mean is at about a level of three, the standard deviation is at about a level of one, both the maximum and the fourth quartile share a level of four, and the median is at a level of three. The median of the box plot is three and \n",
    "this median corresponds with the relationship satisfaction levels of three and four from the previous histogram."
   ]
  },
  {
   "cell_type": "code",
   "execution_count": 10,
   "metadata": {},
   "outputs": [
    {
     "data": {
      "image/png": "[encoded data removed]",
      "text/plain": [
       "<Figure size 432x288 with 1 Axes>"
      ]
     },
     "metadata": {
      "needs_background": "light"
     },
     "output_type": "display_data"
    }
   ],
   "source": [
    "import matplotlib.pyplot as plt\n",
    "\n",
    "plt.scatter(x = attrition['RelationshipSatisfaction'], y = attrition['TotalWorkingYears'], color = 'red')\n",
    "plt.title('Relationship Satisfaction And Total Working Years')\n",
    "plt.xlabel('Relationship Satisfaction')\n",
    "plt.ylabel('Total Working Years')\n",
    "plt.show()"
   ]
  },
  {
   "cell_type": "markdown",
   "metadata": {},
   "source": [
    "The scatter plot depicts the relationship between relationship satisfaction and total working years for employees at attrition. \n",
    "The x-axis has the relationship satisfaction levels from one to four and the y-axis has the total working years from zero to \n",
    "forty years. The scatter plot indicates that IBM employees who have lower relationship satisfaction levels (one and two) and \n",
    "about thirty-seven and about thirty-five total working years have slightly lower attrition. In addition, the scatter plot \n",
    "indicates that the workers who have higher relationship satisfaction levels (three and four) and about thirty-eight and forty \n",
    "total working years have slightly higher attrition. The scatter plot here corresponds with the histogram that indicates that \n",
    "IBM employees who have higher relationship satisfaction levels have more attrition than those who have lower relationship \n",
    "satisfaction levels. The scatter plot also corresponds with the box plot that indicates that workers who have relationship \n",
    "satisfaction levels of two to four have higher attrition than those who have a relationship satisfaction level of one."
   ]
  },
  {
   "cell_type": "code",
   "execution_count": 11,
   "metadata": {},
   "outputs": [
    {
     "name": "stdout",
     "output_type": "stream",
     "text": [
      "9.0\n",
      "3.0\n",
      "1.4142135623730951\n",
      "1.4142135623730951\n",
      "-6.0\n",
      "1.4142135623730951\n",
      "-4.242640687119285\n",
      "Ttest_indResult(statistic=4.242640687119285, pvalue=0.051316701949486204)\n"
     ]
    }
   ],
   "source": [
    "import numpy as np\n",
    "import pandas as pd\n",
    "import scipy\n",
    "import matplotlib.pyplot as plt\n",
    "%matplotlib inline\n",
    "\n",
    "population1 = attrition['TotalWorkingYears']\n",
    "population2 = attrition['RelationshipSatisfaction']\n",
    "\n",
    "sample1 = population1.sample(n = 2, replace=True)\n",
    "sample2 = population2.sample(n = 2, replace=True)\n",
    "\n",
    "print(sample1.mean())\n",
    "print(sample2.mean())\n",
    "print(sample1.std())\n",
    "print(sample2.std())\n",
    "\n",
    "diff = sample2.mean() - sample1.mean()\n",
    "print(diff)\n",
    "\n",
    "size = 2\n",
    "\n",
    "sd1 = sample1.std()\n",
    "sd2 = sample2.std()\n",
    "\n",
    "diff_se = (((sd1 ** 2) / size) + ((sd2 ** 2) / size)) ** 0.5\n",
    "print(diff_se)\n",
    "\n",
    "\n",
    "print(diff/diff_se)\n",
    "\n",
    "from scipy.stats import ttest_ind\n",
    "print(ttest_ind(sample1, sample2, equal_var = False))"
   ]
  },
  {
   "cell_type": "markdown",
   "metadata": {},
   "source": [
    "The sample sizes of the total-working-years data and the relationship-satisfaction data are both two. The sample mean of the total working years of the workers is about seventeen years and the sample mean of the relationship satisfaction of the workers is about two. The sample standard deviation of the total workings years is about sixteen years and the sample standard deviation of the relationship satisfaction is about one. The difference between the sample means is about negative six and the standard error of the sampling distribution of the mean standard deviation is about one. The calculated t-value is about negative five and the statistical t-value is about positive five and it is the exact same value of the calculated t-value and the p-value is about seven to the negative second power. The t-value is small, so there's a small difference between the total-working-years group and the relationship-satisfaction group. Also, the p-value is small, so the data did not happen by chance."
   ]
  },
  {
   "cell_type": "markdown",
   "metadata": {},
   "source": [
    "I hypothesize that the median is three and that the relationship satisfaction levels with the highest attrition are three \n",
    "and four because of marital status, work-life balance, and performance rating. I suspect that the younger employees have \n",
    "more marriages and fewer single people and divorced people while the older employees have fewer marriages and more single \n",
    "people and divorced people. This means that the younger employees might be more occupied with their love lives, which would \n",
    "contribute to their departure from the IBM company. I also suspect that the younger employees would have a weaker balance \n",
    "between their personal lives and their work lives because they would be more occupied with their mates. In addition, the \n",
    "performance ratings of the younger workers would be weaker than the performance ratings of the older workers because the \n",
    "older workers are more focused on their jobs. Therefore, marital status, work-life balance, and performance rating are \n",
    "three significant factors for why workers with higher relationship satisfaction levels would leave IBM."
   ]
  },
  {
   "cell_type": "markdown",
   "metadata": {},
   "source": [
    "# 3) Were workers who had the highest amount of working years more likely to leave the company?"
   ]
  },
  {
   "cell_type": "code",
   "execution_count": 12,
   "metadata": {},
   "outputs": [
    {
     "data": {
      "image/png": "[encoded data removed]",
      "text/plain": [
       "<Figure size 432x288 with 1 Axes>"
      ]
     },
     "metadata": {
      "needs_background": "light"
     },
     "output_type": "display_data"
    }
   ],
   "source": [
    "plt.hist(attrition['TotalWorkingYears']) \n",
    "plt.title('Total Working Years And Attrition')\n",
    "plt.xlabel('Total Working Years')\n",
    "plt.ylabel('Attrition')\n",
    "plt.show()"
   ]
  },
  {
   "cell_type": "markdown",
   "metadata": {},
   "source": [
    "The histogram depicts the total working years of the workers and the attrition numbers of the workers. The x-axis of the \n",
    "histogram covers the total working years from zero to forty years and the y-axis covers the attrition numbers. Approximately \n",
    "three-fourths of the employees who left IBM worked from zero to sixteen years before they left IBM. In addition, \n",
    "approximately a fourth of the employees worked from sixteen to forty years."
   ]
  },
  {
   "cell_type": "code",
   "execution_count": 13,
   "metadata": {},
   "outputs": [
    {
     "name": "stdout",
     "output_type": "stream",
     "text": [
      "       TotalWorkingYears\n",
      "count        1470.000000\n",
      "mean           11.279592\n",
      "std             7.780782\n",
      "min             0.000000\n",
      "25%             6.000000\n",
      "50%            10.000000\n",
      "75%            15.000000\n",
      "max            40.000000\n"
     ]
    },
    {
     "data": {
      "image/png": "[encoded data removed]",
      "text/plain": [
       "<Figure size 432x288 with 1 Axes>"
      ]
     },
     "metadata": {
      "needs_background": "light"
     },
     "output_type": "display_data"
    }
   ],
   "source": [
    "import pandas as pd\n",
    "\n",
    "df = pd.DataFrame(attrition['TotalWorkingYears'])\n",
    "\n",
    "bp = pd.DataFrame.boxplot(attrition['TotalWorkingYears'])\n",
    "\n",
    "plt.boxplot(attrition['TotalWorkingYears']) \n",
    "plt.title('Total Working Years And Attrition')\n",
    "plt.xlabel('Attrition')\n",
    "plt.ylabel('Total Working Years')\n",
    "stats = df.describe()\n",
    "print(stats)\n",
    "plt.show()"
   ]
  },
  {
   "cell_type": "markdown",
   "metadata": {},
   "source": [
    "The box plot depicts the total working years of the IBM employees and the attrition numbers of the employees just as the \n",
    "previous histogram does. The x-axis of the box plot covers the attrition of the workers and the y-axis covers the total \n",
    "working years from zero to forty. The first quartile consists of employees who had zero to six total working years while \n",
    "the second quartile consists of six to ten working years. The third quartile consists of ten to fifteen years while the \n",
    "fourth quartile consists of fifteen to twenty-eight working years and there are eleven outliers beyond the maximum. The \n",
    "minimum is at zero total working years, the lower quartile is at six total working years, the upper quartile is at fifteen \n",
    "total working years, the maximum is at about twenty-eight total working years, the standard deviation is at about eight total \n",
    "working years, the mean is at about eleven total working years, and the median is at ten total working years. The median is ten total working years and this corresponds with the age range of zero to sixteen from the histogram."
   ]
  },
  {
   "cell_type": "code",
   "execution_count": 14,
   "metadata": {},
   "outputs": [
    {
     "data": {
      "image/png": "[encoded data removed]",
      "text/plain": [
       "<Figure size 432x288 with 1 Axes>"
      ]
     },
     "metadata": {
      "needs_background": "light"
     },
     "output_type": "display_data"
    }
   ],
   "source": [
    "import matplotlib.pyplot as plt\n",
    "\n",
    "plt.scatter(x = attrition['Age'], y = attrition['TotalWorkingYears'], color = 'red')\n",
    "plt.title('Age And Total Working Years')\n",
    "plt.xlabel('Ages')\n",
    "plt.ylabel('Total Working Years')\n",
    "plt.show()"
   ]
  },
  {
   "cell_type": "markdown",
   "metadata": {},
   "source": [
    "The scatter plot depicts the relationship between the ages of IBM employees and the total working years of the IBM employees at attrition. \n",
    "The x-axis has the ages of the workers from twenty to sixty years of age and the y-axis has the total working years from zero \n",
    "years to forty years. The scatter plot indicates that there is more attrition among employees who are eighteen years old to \n",
    "those who are about forty years old and who have zero to about twenty-two total working years. The plot also indicates that \n",
    "there is less attrition among employees who are about forty years old to sixty years old and who have about twenty-two total \n",
    "working years to forty toal working years. Due to these findings, the scatter plot corresponds with the histogram that indicates \n",
    "that three-fourths of the IBM employees left the company when they had zero to sixteen total working years. The scatter plot \n",
    "also corresponds with the box plot that indicates that the minimum of the total working years of the workers who left IBM is at \n",
    "zero years and that the maximum of the years of the workers who left the company is at about twenty-eight years."
   ]
  },
  {
   "cell_type": "code",
   "execution_count": 15,
   "metadata": {},
   "outputs": [
    {
     "name": "stdout",
     "output_type": "stream",
     "text": [
      "38.45\n",
      "9.85\n",
      "8.911701355668939\n",
      "6.4829736516833885\n",
      "-28.6\n",
      "2.464217608299363\n",
      "-11.606117862187421\n",
      "Ttest_indResult(statistic=11.606117862187421, pvalue=1.6850489644189743e-13)\n"
     ]
    }
   ],
   "source": [
    "import numpy as np\n",
    "import pandas as pd\n",
    "import scipy\n",
    "import matplotlib.pyplot as plt\n",
    "%matplotlib inline\n",
    "\n",
    "population1 = attrition['Age']\n",
    "population2 = attrition['TotalWorkingYears']\n",
    "\n",
    "sample1 = population1.sample(n = 20, replace=True)\n",
    "sample2 = population2.sample(n = 20, replace=True)\n",
    "\n",
    "print(sample1.mean())\n",
    "print(sample2.mean())\n",
    "print(sample1.std())\n",
    "print(sample2.std())\n",
    "\n",
    "diff = sample2.mean() - sample1.mean()\n",
    "print(diff)\n",
    "\n",
    "size = 20\n",
    "sd1 = sample1.std()\n",
    "sd2 = sample2.std()\n",
    "\n",
    "diff_se = (((sd1 ** 2) / 20) + ((sd2 ** 2) / 20)) ** 0.5\n",
    "print(diff_se)\n",
    "\n",
    "print(diff/diff_se)\n",
    "\n",
    "from scipy.stats import ttest_ind\n",
    "print(ttest_ind(sample1, sample2, equal_var = False))"
   ]
  },
  {
   "cell_type": "markdown",
   "metadata": {},
   "source": [
    "The sample sizes of the age data and the total-working-years data are both twenty years. The sample mean for the age data is about thirty-six years and the sample mean for the total-working-years data is about thirteen years. The sample standard deviation for the age data is about ten years and the sample deviation for the working years data is about eight years. The difference between the sample means is negative twenty-two and the standard error of the sampling distribution of the means is about three. The calculated t-value is about negative eight and the statistical t-value is the exact same value as the calculated t-value except that the statistical t-value is positive and the p-value is about two to the negative ninth power. The statistical t-value is big, so there is a big difference between the age group and the total-working-years group. Also, the p-value is small, so the data did not happen by chance."
   ]
  },
  {
   "cell_type": "markdown",
   "metadata": {},
   "source": [
    "I hypothesize that the median is ten and that the span of total working years with the highest attrition is zero to \n",
    "sixteen years because of the years the employees worked at IBM, the percent salary hike, the number of companies \n",
    "worked at, and the stock option level. I suspect that the years the employees worked at IBM contributed to the \n",
    "departure of the workers because some of the younger employees are not as dedicated to their jobs as their older \n",
    "peers. I suspect that the workers who have fewer total working years left IBM because they had lower percent salary \n",
    "hikes. Also, I suspect that the employees left IBM because they worked for few companies; the issue is that they were \n",
    "inexperienced with working under different managements, which means that they were somewhat ill equipped for their \n",
    "jobs at IBM. Another reason the workers might have left IBM is the stock option levels of IBM; the older employees \n",
    "most likely had higher stock option levels than the younger employees had, so the younger employees left because they \n",
    "had very little influence via stock in the company. Therefore, the years the employees worked at IBM, the percent \n",
    "salary hikes, the numbers of companies worked at, and the stock option levels were four significant factors for why \n",
    "workers with fewer total working years would leave IBM."
   ]
  },
  {
   "cell_type": "markdown",
   "metadata": {},
   "source": [
    "# Conclusion"
   ]
  },
  {
   "cell_type": "markdown",
   "metadata": {},
   "source": [
    "I propose that further research should be done with the Attrition and Performance data set. The research should be aimed \n",
    "at the question of there being workers who have higher education levels who are more likely to stay with the IBM company. \n",
    "The research should also be aimed at the question of workers who have higher job levels are more likely to stay with IBM. \n",
    "In addition, the research should be aimed at the question of employees who have lower environment satisfaction levels are \n",
    "more likely to leave the IBM company and the question of employess who live farther away from their work place are more \n",
    "likely to leave the company. I would like these two questions to be addressed by using the data science techniques of linear \n",
    "regression and cluster analysis. I would use linear regression to find a line that fits the data points of the data set the \n",
    "best and I would do this to determine the answers to the previously stated questions. I would also use cluster analysis to \n",
    "identify structures in the data set, so that I can determine the answers to the questions. These are the details of my \n",
    "proposal for further research regarding the Attrition and Performance data set."
   ]
  }
 ],
 "metadata": {
  "kernelspec": {
   "display_name": "Python 3",
   "language": "python",
   "name": "python3"
  },
  "language_info": {
   "codemirror_mode": {
    "name": "ipython",
    "version": 3
   },
   "file_extension": ".py",
   "mimetype": "text/x-python",
   "name": "python",
   "nbconvert_exporter": "python",
   "pygments_lexer": "ipython3",
   "version": "3.7.3"
  }
 },
 "nbformat": 4,
 "nbformat_minor": 2
}
