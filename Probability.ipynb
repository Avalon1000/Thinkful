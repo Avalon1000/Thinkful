{
 "cells": [
  {
   "cell_type": "code",
   "execution_count": 61,
   "metadata": {},
   "outputs": [
    {
     "name": "stdout",
     "output_type": "stream",
     "text": [
      "0.0625\n",
      "0.0625\n",
      "0.0625\n"
     ]
    }
   ],
   "source": [
    "# HTTH, HHHH, and TTHH\n",
    "\n",
    "Pheads = 1/2\n",
    "Ptails = 1/2\n",
    "\n",
    "PHTTH = Pheads * Ptails * Ptails * Pheads\n",
    "print(PHTTH)\n",
    "\n",
    "PHHHH = Pheads * Pheads * Pheads * Pheads\n",
    "print(PHHHH)\n",
    "\n",
    "PTTHH = Ptails * Ptails * Pheads * Pheads\n",
    "print(PTTHH)"
   ]
  },
  {
   "cell_type": "code",
   "execution_count": 62,
   "metadata": {},
   "outputs": [
    {
     "name": "stdout",
     "output_type": "stream",
     "text": [
      "0.5333333333333333\n"
     ]
    }
   ],
   "source": [
    "# 24 women and 21 men\n",
    "\n",
    "Pman = 21/45\n",
    "\n",
    "Ptotal = 1\n",
    "\n",
    "Pnotman = Ptotal - Pman\n",
    "print(Pnotman)"
   ]
  },
  {
   "cell_type": "code",
   "execution_count": 63,
   "metadata": {},
   "outputs": [
    {
     "name": "stdout",
     "output_type": "stream",
     "text": [
      "0.0005\n"
     ]
    }
   ],
   "source": [
    "# Bernice traveling\n",
    "\n",
    "Ptraveling = 10\n",
    "\n",
    "Pcrash = 0.005\n",
    "\n",
    "Ptravelingcrash = Pcrash / Ptraveling\n",
    "print(Ptravelingcrash)"
   ]
  },
  {
   "cell_type": "code",
   "execution_count": 64,
   "metadata": {},
   "outputs": [],
   "source": [
    "# Behavior of users\n",
    "\n",
    "# 5% chance for short survey and 15 minutes for surfing the company website\n",
    "\n",
    "# What's wrong with the conclusion is that people who surf for longer periods of time are \n",
    "# likely to click on more links thereby increasing the chances of getting a survey."
   ]
  },
  {
   "cell_type": "code",
   "execution_count": 65,
   "metadata": {},
   "outputs": [
    {
     "name": "stdout",
     "output_type": "stream",
     "text": [
      "0.1044\n",
      "0.98\n",
      "0.9\n",
      "0.09960000000000002\n"
     ]
    }
   ],
   "source": [
    "# Thripshaw's Disease\n",
    "\n",
    "Ppositive = 0.98\n",
    "Pfalsenegative = 0.02\n",
    "Pfalsepositive = 0.10\n",
    "Pnegative = 0.90\n",
    "Sufferers = 0.005\n",
    "Nonsufferers = 0.995\n",
    "\n",
    "Positive = (Ppositive * Sufferers) + (Pfalsepositive * Nonsufferers)\n",
    "print(Positive)\n",
    "\n",
    "# 10.44%\n",
    "\n",
    "Diagnosesufferer = 0.98\n",
    "print(Diagnosesufferer)\n",
    "\n",
    "# 98%\n",
    "\n",
    "Identifynonsufferer = 0.90\n",
    "print(Identifynonsufferer)\n",
    "\n",
    "#90%\n",
    "\n",
    "Negative = (Ppositive * Sufferers) + (Pnegative * Nonsufferers)\n",
    "\n",
    "Misclassify = 1 - Negative\n",
    "print(Misclassify)\n",
    "\n",
    "# 9.96%\n",
    "\n",
    "\n",
    "\n",
    "\n",
    "\n"
   ]
  }
 ],
 "metadata": {
  "kernelspec": {
   "display_name": "Python 3",
   "language": "python",
   "name": "python3"
  },
  "language_info": {
   "codemirror_mode": {
    "name": "ipython",
    "version": 3
   },
   "file_extension": ".py",
   "mimetype": "text/x-python",
   "name": "python",
   "nbconvert_exporter": "python",
   "pygments_lexer": "ipython3",
   "version": "3.7.3"
  }
 },
 "nbformat": 4,
 "nbformat_minor": 2
}
